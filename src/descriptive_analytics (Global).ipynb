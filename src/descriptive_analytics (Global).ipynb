{
 "cells": [
  {
   "cell_type": "code",
   "execution_count": 1,
   "metadata": {},
   "outputs": [],
   "source": [
    "import warnings\n",
    "warnings.filterwarnings('ignore')\n",
    "\n",
    "import pandas as pd\n",
    "import numpy as np\n",
    "from bokeh.plotting import figure, show, output_file\n",
    "from bokeh.models import ColumnDataSource, HoverTool, LinearColorMapper, Legend\n",
    "from bokeh.layouts import widgetbox, column\n",
    "from bokeh.plotting import figure, curdoc\n",
    "from bokeh.transform import factor_cmap\n",
    "from bokeh.palettes import RdYlBu, Category10, Viridis6\n",
    "from IPython.core.display import HTML, display\n",
    "import matplotlib.pyplot as plt\n",
    "import seaborn as sn\n",
    "\n",
    "pd.set_option(\"display.max_rows\", 8)\n",
    "pd.set_option(\"display.max_columns\", 20)"
   ]
  },
  {
   "cell_type": "code",
   "execution_count": 2,
   "metadata": {},
   "outputs": [],
   "source": [
    "cases_global = pd.read_csv('../data/Global_all_vars.csv').iloc[:,1:]\n",
    "cases_global['Date'] = pd.to_datetime(cases_global['Date'], cache=True)"
   ]
  },
  {
   "cell_type": "code",
   "execution_count": 3,
   "metadata": {},
   "outputs": [
    {
     "data": {
      "text/html": [
       "<p style='font-size: 15px'>Global Correlation Plot</p>"
      ],
      "text/plain": [
       "<IPython.core.display.HTML object>"
      ]
     },
     "metadata": {},
     "output_type": "display_data"
    }
   ],
   "source": [
    "# corr_global = cases_global.drop('FIPS',axis=1).corr()\n",
    "# sn.heatmap(corr_global, annot=True, annot_kws={\"size\":15})\n",
    "# sn.set_context(\"poster\",font_scale=1.5)\n",
    "# sn.set(rc={'figure.figsize':(15,15)})\n",
    "display(HTML(\"<p style='font-size: 15px'>Global Correlation Plot</p>\"))"
   ]
  },
  {
   "cell_type": "markdown",
   "metadata": {},
   "source": [
    "![img](assets/img/Seaborn/Corr_Plot_Global.png)"
   ]
  },
  {
   "cell_type": "markdown",
   "metadata": {},
   "source": [
    "***The figure above is a correlation plot of all numeric variables for U.S. cases. This was calculated using the correlation coefficient (pearson's). Some interesting correlations related to the total cases include area per square kilometer (.38) and the number of protests (0.62) although the protests are heavily influenced by the US.***"
   ]
  },
  {
   "cell_type": "code",
   "execution_count": 4,
   "metadata": {},
   "outputs": [],
   "source": [
    "def assign_color(row):\n",
    "    if row['Avg_Temp'] < 10:\n",
    "        return '< 10' \n",
    "    elif row['Avg_Temp'] >= 10 and row['Avg_Temp'] <= 20:\n",
    "        return '>= 10 & <= 20'\n",
    "    elif row['Avg_Temp'] > 20:\n",
    "        return '> 20'\n",
    "\n",
    "cases_global['Avg_TempFCT'] = cases_global.apply(assign_color, axis=1)"
   ]
  },
  {
   "cell_type": "code",
   "execution_count": 5,
   "metadata": {},
   "outputs": [],
   "source": [
    "hover = HoverTool(tooltips=[\n",
    "    (\"Country/Region\", \"@Country_Region\"),\n",
    "    (\"Area per sq km\", \"@{Area.sq.km}{0.00}\"),\n",
    "    (\"Avg Temperature\", \"@Avg_Temp\"),\n",
    "    (\"Total_Cases\", \"@Total_Cases\")\n",
    "    ])\n",
    "\n",
    "p = figure(title = \"Area per square kilometer vs Total Cases\", plot_height=500, plot_width=750,\n",
    "           tools=[hover,\"pan,reset,wheel_zoom\"])\n",
    "\n",
    "colors = factor_cmap('Avg_TempFCT', palette=['#EC7063','#A569BD','#007BCC'],\n",
    "                     factors=cases_global['Avg_TempFCT'].unique()) \n",
    "\n",
    "p.circle('Area.sq.km','Total_Cases', legend='Avg_TempFCT',\n",
    "         fill_alpha=0.5, size=10, fill_color=colors, line_color=colors,\n",
    "         source=ColumnDataSource(cases_global[cases_global['Date'] == pd.Timestamp(\"2020-06-30\")]))\n",
    "p.xaxis.axis_label = 'Area per square kilometer (thousands)'\n",
    "p.yaxis.axis_label = 'Total COVID-19 Cases (06/30/2020)'\n",
    "p.legend.title = 'Avg Temperature'\n",
    "p.legend.location = \"top_left\"\n",
    "p.legend.orientation = \"horizontal\"\n",
    "\n",
    "output_file(\"../assets/img/Bokeh/Global_Area_Temp.html\")\n",
    "\n",
    "show(p)"
   ]
  },
  {
   "cell_type": "markdown",
   "metadata": {},
   "source": [
    "<iframe src=\"assets/img/Bokeh/Global_Area_Temp.html\"\n",
    "    sandbox=\"allow-same-origin allow-scripts\"\n",
    "    width=\"100%\"\n",
    "    height=\"525\"\n",
    "    scrolling=\"no\"\n",
    "    seamless=\"seamless\"\n",
    "    frameborder=\"0\">\n",
    "</iframe>"
   ]
  },
  {
   "cell_type": "markdown",
   "metadata": {},
   "source": [
    "***The figure above shows a weak positive correlation between cases and area per square kilometer. An interesting note here is that the countries with the most cases are above average in temperature.***\n",
    "\n",
    "***You may hover over the bars for more detailed information.***"
   ]
  },
  {
   "cell_type": "code",
   "execution_count": 6,
   "metadata": {},
   "outputs": [],
   "source": [
    "def assign_class_pop(row):\n",
    "    if row['PopTotal'] < 80000:\n",
    "        return \"< 80,000\"\n",
    "    elif row['PopTotal'] >= 80000 and row['PopTotal'] <= 100000:\n",
    "        return \">= 80,000 & <= 100,000\"\n",
    "    else:\n",
    "        return \"> 100,000\"\n",
    "    \n",
    "cases_global['PopTotalFCT'] = cases_global.apply(assign_class_pop, axis=1)\n",
    "\n",
    "hover = HoverTool(tooltips=[\n",
    "    (\"Country/Region\", \"@Country_Region\"),\n",
    "    (\"Density\", \"@PopDensity{0.00}\"),\n",
    "    (\"Population\", \"@PopTotal{0.00}\"),\n",
    "    (\"Total_Cases\", \"@Total_Cases\")\n",
    "    ])\n",
    "\n",
    "p = figure(title = \"Population Density vs Total Cases\", plot_height=500, plot_width=750,\n",
    "           tools=[hover,\"pan,reset,wheel_zoom\"])\n",
    "\n",
    "colors = factor_cmap('PopTotalFCT', palette=['#007BCC','#EC7063','#A569BD'],\n",
    "                     factors=cases_global['PopTotalFCT'].unique()) \n",
    "\n",
    "p.circle('PopDensity','Total_Cases', legend='PopTotalFCT',\n",
    "         fill_alpha=0.5, size=10, fill_color=colors, line_color=colors,\n",
    "         source=ColumnDataSource(cases_global[cases_global['Date'] == pd.Timestamp(\"2020-06-30\")]))\n",
    "p.xaxis.axis_label = 'Population per square kilometer'\n",
    "p.yaxis.axis_label = 'Total COVID-19 Cases (06/30/2020)'\n",
    "p.legend.title = 'Total Population'\n",
    "p.legend.location = \"top_right\"\n",
    "\n",
    "cases_global = cases_global.drop('PopTotalFCT', axis=1)\n",
    "\n",
    "output_file(\"../assets/img/Bokeh/Global_Density_Temp.html\")\n",
    "\n",
    "show(p)"
   ]
  },
  {
   "cell_type": "markdown",
   "metadata": {},
   "source": [
    "<iframe src=\"assets/img/Bokeh/Global_Density_Temp.html\"\n",
    "    sandbox=\"allow-same-origin allow-scripts\"\n",
    "    width=\"100%\"\n",
    "    height=\"525\"\n",
    "    scrolling=\"no\"\n",
    "    seamless=\"seamless\"\n",
    "    frameborder=\"0\">\n",
    "</iframe>"
   ]
  },
  {
   "cell_type": "markdown",
   "metadata": {},
   "source": [
    "***The figure above shows a surprising little to no correlation between population density and cases. This could be that overall population has more impact than the density.***\n",
    "\n",
    "***You may hover over the bars for more detailed information.***"
   ]
  },
  {
   "cell_type": "code",
   "execution_count": 7,
   "metadata": {},
   "outputs": [],
   "source": [
    "hover = HoverTool(tooltips=[\n",
    "    (\"County/Region\", \"@Country_Region\"),\n",
    "    (\"Total Cases\", \"@Total_Cases{0.00}\")\n",
    "    ])\n",
    "\n",
    "cases_global_bar = cases_global[cases_global['Date'] == pd.Timestamp('2020-06-30')].sort_values('Total_Cases', ascending=False)\n",
    "cases_global_bar = cases_global_bar[:10]\n",
    "Countries = cases_global_bar['Country_Region']\n",
    "\n",
    "pal = RdYlBu[10]\n",
    "source = ColumnDataSource(data=dict(Country_Region=cases_global_bar['Country_Region'],\n",
    "                                    Total_Cases=cases_global_bar['Total_Cases']/1000))\n",
    "\n",
    "p = figure(x_range=Countries, y_range=(0,max(cases_global_bar['Total_Cases']/1000)+25), \n",
    "           plot_height=500, title=\"Total COVID-19 Cases by Top 10 Countries as of 6/30/20\", \n",
    "           toolbar_location=None, tools=[hover])\n",
    "\n",
    "p.vbar(x='Country_Region', top='Total_Cases', width=0.9,source=source)\n",
    "\n",
    "p.xgrid.grid_line_color = None\n",
    "p.xaxis.axis_label = 'Country'\n",
    "p.yaxis.axis_label = 'Total COVID-19 Cases (Thousands)'\n",
    "\n",
    "output_file(\"../assets/img/Bokeh/County_Density_Plot.html\")\n",
    "show(p)"
   ]
  },
  {
   "cell_type": "markdown",
   "metadata": {},
   "source": [
    "<iframe src=\"assets/img/Bokeh/County_Density_Plot.html\"\n",
    "    sandbox=\"allow-same-origin allow-scripts\"\n",
    "    width=\"100%\"\n",
    "    height=\"525\"\n",
    "    scrolling=\"no\"\n",
    "    seamless=\"seamless\"\n",
    "    frameborder=\"0\">\n",
    "</iframe>"
   ]
  },
  {
   "cell_type": "markdown",
   "metadata": {},
   "source": [
    "***The figure above shows the top ten countries by cases. Units are in thousands. The top three seem to be significanly higher than the rest.***"
   ]
  },
  {
   "cell_type": "code",
   "execution_count": 8,
   "metadata": {},
   "outputs": [],
   "source": [
    "time_series_chart = cases_global.groupby(['Country_Region', 'Date']).agg({\n",
    "    'Cases_Delta': np.sum,\n",
    "    'Total_Cases': np.sum,\n",
    "    'PopMale': np.mean,\n",
    "    'PopFemale': np.mean,\n",
    "    'PopTotal': np.mean,\n",
    "    'Avg_Temp': np.mean\n",
    "}).reset_index()\n",
    "\n",
    "Country_Region = cases_global.groupby('Country_Region').sum().reset_index().sort_values('Cases_Delta')\n",
    "time_series_chart = time_series_chart[time_series_chart['Country_Region'].isin(Country_Region.iloc[-5:, 0])]\n",
    "\n",
    "countries_pop = cases_global.groupby(['Country_Region']).agg({'PopTotal': np.mean}).reset_index()\n",
    "\n",
    "p = figure(plot_width=800, plot_height=500, x_axis_type=\"datetime\",\n",
    "          title=\"Daily COVID-19 Cases by 5 most infected States\")\n",
    "\n",
    "color_idx = 0\n",
    "for Country, df in cases_global.groupby(['Country_Region']):\n",
    "    date = time_series_chart.loc[time_series_chart['Country_Region'] == Country, 'Date']\n",
    "    if date.empty:\n",
    "        continue\n",
    "    else:\n",
    "        y = time_series_chart.loc[time_series_chart['Country_Region'] == Country, 'Cases_Delta'].iloc[:-1]\n",
    "        \n",
    "        source = ColumnDataSource(data=dict(\n",
    "            y =  time_series_chart.loc[time_series_chart['Country_Region'] == Country, \n",
    "                                       'Cases_Delta'].iloc[:-1],\n",
    "            date = date.iloc[:-1],\n",
    "            Total_Cases = time_series_chart.loc[time_series_chart['Country_Region'] == Country, \n",
    "                                       'Total_Cases'].iloc[:-1]))\n",
    "        line = p.line(x='date', y='y', line_width=2, color=Category10[10][color_idx],\n",
    "                      alpha=0.8, legend=Country, source=source)\n",
    "        hover = HoverTool(tooltips=[\n",
    "            ('Date', '@date{%F}'),\n",
    "            ('Country', Country),\n",
    "            ('New Cases', '@y'),\n",
    "            ('Total Cases', '@Total_Cases')\n",
    "        ], \n",
    "        renderers=[line], formatters={'date': 'datetime'})\n",
    "        p.add_tools(hover)\n",
    "        color_idx += 2\n",
    "    \n",
    "p.legend.location = \"top_left\"\n",
    "p.legend.click_policy=\"hide\"\n",
    "p.xaxis.axis_label = 'Date (1/22/20 - 6/29/20)'\n",
    "p.yaxis.axis_label = 'Daily COVID-19 cases by State'\n",
    "\n",
    "output_file(\"../assets/img/Bokeh/Time_Series_Global.html\")\n",
    "\n",
    "show(p)"
   ]
  },
  {
   "cell_type": "markdown",
   "metadata": {},
   "source": [
    " <iframe src=\"assets/img/Bokeh/Time_Series_Global.html\"\n",
    "    sandbox=\"allow-same-origin allow-scripts\"\n",
    "    width=\"100%\"\n",
    "    height=\"525\"\n",
    "    scrolling=\"no\"\n",
    "    seamless=\"seamless\"\n",
    "    frameborder=\"0\">\n",
    "</iframe>"
   ]
  },
  {
   "cell_type": "markdown",
   "metadata": {},
   "source": [
    "***The figure above shows the progression of infection rate of the top 5 worst countries. It is interesting to see the US has two peaks whereas the other countries have a consistent progression. Another point is the huge dip from Spain on April 23rd. This can be explained by a correction in the John Hopkins dataset for cases on the 24th.***"
   ]
  }
 ],
 "metadata": {
  "hide_input": false,
  "kernelspec": {
   "display_name": "cudagpu",
   "language": "python",
   "name": "cudagpu"
  },
  "language_info": {
   "codemirror_mode": {
    "name": "ipython",
    "version": 3
   },
   "file_extension": ".py",
   "mimetype": "text/x-python",
   "name": "python",
   "nbconvert_exporter": "python",
   "pygments_lexer": "ipython3",
   "version": "3.7.3"
  },
  "toc": {
   "base_numbering": 1,
   "nav_menu": {},
   "number_sections": true,
   "sideBar": true,
   "skip_h1_title": false,
   "title_cell": "Table of Contents",
   "title_sidebar": "Contents",
   "toc_cell": false,
   "toc_position": {},
   "toc_section_display": true,
   "toc_window_display": false
  }
 },
 "nbformat": 4,
 "nbformat_minor": 2
}
