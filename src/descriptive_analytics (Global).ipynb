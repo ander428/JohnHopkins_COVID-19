{
 "cells": [
  {
   "cell_type": "code",
   "execution_count": 1,
   "metadata": {},
   "outputs": [],
   "source": [
    "import warnings\n",
    "warnings.filterwarnings('ignore')\n",
    "\n",
    "import pandas as pd\n",
    "import numpy as np\n",
    "from bokeh.plotting import figure, show, output_file\n",
    "from bokeh.models import ColumnDataSource, HoverTool, LinearColorMapper, Legend\n",
    "from bokeh.layouts import widgetbox, column\n",
    "from bokeh.plotting import figure, curdoc\n",
    "from bokeh.transform import factor_cmap\n",
    "from bokeh.palettes import RdYlBu, Category10, Viridis6 \n",
    "from IPython.core.display import HTML, display\n",
    "import matplotlib.pyplot as plt\n",
    "import seaborn as sn\n",
    "\n",
    "pd.set_option(\"display.max_rows\", 8)\n",
    "pd.set_option(\"display.max_columns\", 20)"
   ]
  },
  {
   "cell_type": "code",
   "execution_count": 2,
   "metadata": {},
   "outputs": [],
   "source": [
    "cases_global = pd.read_csv('../data/Global_all_vars.csv').iloc[:,1:]\n",
    "cases_global['Date'] = pd.to_datetime(cases_global['Date'], cache=True)"
   ]
  },
  {
   "cell_type": "code",
   "execution_count": 3,
   "metadata": {},
   "outputs": [
    {
     "data": {
      "text/html": [
       "<p style='font-size: 15px'>Global Correlation Plot</p>"
      ],
      "text/plain": [
       "<IPython.core.display.HTML object>"
      ]
     },
     "metadata": {},
     "output_type": "display_data"
    }
   ],
   "source": [
    "# corr_global = cases_global.drop('FIPS',axis=1).corr()\n",
    "# sn.heatmap(corr_global, annot=True, annot_kws={\"size\":15})\n",
    "# sn.set_context(\"poster\",font_scale=1.5)\n",
    "# sn.set(rc={'figure.figsize':(15,15)})\n",
    "display(HTML(\"<p style='font-size: 15px'>Global Correlation Plot</p>\"))"
   ]
  },
  {
   "cell_type": "markdown",
   "metadata": {},
   "source": [
    "![img](assets/img/Seaborn/Corr_Plot_Global.png)"
   ]
  },
  {
   "cell_type": "code",
   "execution_count": 4,
   "metadata": {},
   "outputs": [],
   "source": [
    "hover = HoverTool(tooltips=[\n",
    "    (\"Country/Region\", \"@Country_Region\"),\n",
    "    (\"Area per sq km\", \"@{Area.sq.km}{0.00}\"),\n",
    "    (\"Total_Cases\", \"@Total_Cases\")\n",
    "    ])\n",
    "\n",
    "p = figure(title = \"Area per square kilometer vs Total Cases\", plot_height=500, plot_width=750,\n",
    "           tools=[hover,\"pan,reset,wheel_zoom\"])\n",
    "\n",
    "p.circle('Area.sq.km','Total_Cases',\n",
    "         fill_alpha=0.5, size=10, color='blue',#fill_color=colors, line_color=colors,\n",
    "         source=ColumnDataSource(cases_global[cases_global['Date'] == pd.Timestamp(\"2020-06-30\")]))\n",
    "p.xaxis.axis_label = 'Area per square kilometer (thousands)'\n",
    "p.yaxis.axis_label = 'Total COVID-19 Cases (06/30/2020)'\n",
    "# p.legend.title = 'Avg Person Per Household'\n",
    "# p.legend.location = \"top_left\"\n",
    "# p.legend.orientation = \"horizontal\"\n",
    "\n",
    "output_file(\"../assets/img/Bokeh/Global_Area_Temp.html\")\n",
    "\n",
    "show(p)"
   ]
  },
  {
   "cell_type": "markdown",
   "metadata": {},
   "source": [
    "<iframe src=\"assets/img/Bokeh/Global_Area_Temp.html\"\n",
    "    sandbox=\"allow-same-origin allow-scripts\"\n",
    "    width=\"100%\"\n",
    "    height=\"525\"\n",
    "    scrolling=\"no\"\n",
    "    seamless=\"seamless\"\n",
    "    frameborder=\"0\">\n",
    "</iframe>"
   ]
  },
  {
   "cell_type": "code",
   "execution_count": 5,
   "metadata": {},
   "outputs": [],
   "source": [
    "def assign_class_pop(row):\n",
    "    if row['PopTotal'] < 80000:\n",
    "        return \"< 80,000\"\n",
    "    elif row['PopTotal'] >= 80000 and row['PopTotal'] <= 100000:\n",
    "        return \">= 80,000 & <= 100,000\"\n",
    "    else:\n",
    "        return \"> 100,000\"\n",
    "    \n",
    "cases_global['PopTotalFCT'] = cases_global.apply(assign_class_pop, axis=1)\n",
    "\n",
    "hover = HoverTool(tooltips=[\n",
    "    (\"Country/Region\", \"@Country_Region\"),\n",
    "    (\"Density\", \"@PopDensity{0.00}\"),\n",
    "    (\"Population\", \"@PopTotal{0.00}\"),\n",
    "    (\"Total_Cases\", \"@Total_Cases\")\n",
    "    ])\n",
    "\n",
    "p = figure(title = \"Population Density vs Total Cases\", plot_height=500, plot_width=750,\n",
    "           tools=[hover,\"pan,reset,wheel_zoom\"])\n",
    "\n",
    "colors = factor_cmap('PopTotalFCT', palette=['#EC7063','#A569BD','#007BCC'],\n",
    "                     factors=cases_global['PopTotalFCT'].unique()) \n",
    "\n",
    "p.circle('PopDensity','Total_Cases', legend='PopTotalFCT',\n",
    "         fill_alpha=0.5, size=10, fill_color=colors, line_color=colors,\n",
    "         source=ColumnDataSource(cases_global[cases_global['Date'] == pd.Timestamp(\"2020-06-30\")]))\n",
    "p.xaxis.axis_label = 'Population per square kilometer'\n",
    "p.yaxis.axis_label = 'Total COVID-19 Cases (06/30/2020)'\n",
    "p.legend.title = 'Total Population'\n",
    "p.legend.location = \"top_right\"\n",
    "\n",
    "cases_global = cases_global.drop('PopTotalFCT', axis=1)\n",
    "\n",
    "output_file(\"../assets/img/Bokeh/Global_Density_Temp.html\")\n",
    "\n",
    "show(p)"
   ]
  },
  {
   "cell_type": "markdown",
   "metadata": {},
   "source": [
    "<iframe src=\"assets/img/Bokeh/Global_Density_Temp.html\"\n",
    "    sandbox=\"allow-same-origin allow-scripts\"\n",
    "    width=\"100%\"\n",
    "    height=\"500\"\n",
    "    scrolling=\"no\"\n",
    "    seamless=\"seamless\"\n",
    "    frameborder=\"0\">\n",
    "</iframe>"
   ]
  }
 ],
 "metadata": {
  "hide_input": false,
  "kernelspec": {
   "display_name": "cudagpu",
   "language": "python",
   "name": "cudagpu"
  },
  "language_info": {
   "codemirror_mode": {
    "name": "ipython",
    "version": 3
   },
   "file_extension": ".py",
   "mimetype": "text/x-python",
   "name": "python",
   "nbconvert_exporter": "python",
   "pygments_lexer": "ipython3",
   "version": "3.7.3"
  },
  "toc": {
   "base_numbering": 1,
   "nav_menu": {},
   "number_sections": true,
   "sideBar": true,
   "skip_h1_title": false,
   "title_cell": "Table of Contents",
   "title_sidebar": "Contents",
   "toc_cell": false,
   "toc_position": {},
   "toc_section_display": true,
   "toc_window_display": false
  }
 },
 "nbformat": 4,
 "nbformat_minor": 2
}
