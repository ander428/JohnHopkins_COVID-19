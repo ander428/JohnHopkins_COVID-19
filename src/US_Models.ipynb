{
 "cells": [
  {
   "cell_type": "code",
   "execution_count": 2,
   "metadata": {},
   "outputs": [],
   "source": [
    "import warnings\n",
    "warnings.filterwarnings('ignore')\n",
    "\n",
    "import pandas as pd\n",
    "import numpy as np\n",
    "from math import sqrt\n",
    "import random\n",
    "from collections import deque\n",
    "import itertools\n",
    "from IPython.display import display_html, Image\n",
    "\n",
    "import pickle\n",
    "import multiprocessing\n",
    "from multiprocessing import Process\n",
    "from statsmodels.stats.outliers_influence import variance_inflation_factor\n",
    "from sklearn.model_selection import train_test_split, RandomizedSearchCV\n",
    "from sklearn.cluster import KMeans\n",
    "from sklearn.ensemble import RandomForestRegressor\n",
    "from sklearn import metrics\n",
    "from sklearn import preprocessing\n",
    "\n",
    "from bokeh.plotting import figure, output_file, show\n",
    "from bokeh.models import ColumnDataSource, HoverTool, Span, Label\n",
    "from bokeh.palettes import Category10\n",
    "import matplotlib.pyplot as plt\n",
    "\n",
    "pd.set_option('display.float_format', lambda x: '%.5f' % x)\n",
    "\n",
    "pd.set_option(\"display.max_rows\", 8)\n",
    "pd.set_option(\"display.max_columns\", 25)\n",
    "\n",
    "def frange(start, stop, step):\n",
    "    i = start\n",
    "    while i < stop:\n",
    "        yield round(i, ndigits=2)\n",
    "        i += step\n",
    "        \n",
    "def save_model(model, filepath):\n",
    "    with open(filepath, 'wb') as file:\n",
    "        pickle.dump(model, file)\n",
    "        \n",
    "def load_model(filepath):\n",
    "    with open(filepath, 'rb') as file:\n",
    "        return pickle.load(file)"
   ]
  },
  {
   "cell_type": "markdown",
   "metadata": {},
   "source": [
    "# Data Preperation"
   ]
  },
  {
   "cell_type": "code",
   "execution_count": 3,
   "metadata": {},
   "outputs": [],
   "source": [
    "cases_US = pd.read_csv(\"../data/Final Tables/US_all_vars.csv\").iloc[:,1:]\n",
    "cases_US['Date'] = pd.to_datetime(cases_US['Date'], cache=True)\n",
    "# cases_US['Date'] = cases_US['Date'].apply(lambda x:x.toordinal())\n",
    "cases_US = cases_US.drop(['FIPS', 'Country_Region', 'Total_Cases', 'State', 'County_FIPS',\n",
    "                          'Phase.0', 'Phase.1', 'Phase.2', 'Phase.3', 'Abbreviation', 'Month',\n",
    "                          'Lat', 'Long'],axis=1)\n",
    "\n",
    "cases_US = cases_US.drop(['Area.sq.km', 'POP.2019'], axis=1)\n",
    "cases_US_curr = cases_US[cases_US['Date'] == pd.Timestamp('2020-06-16')]\n",
    "\n",
    "cases_US = cases_US.set_index(['County', 'Date'])"
   ]
  },
  {
   "cell_type": "code",
   "execution_count": 4,
   "metadata": {},
   "outputs": [],
   "source": [
    "cases_US_curr = (pd.concat([cases_US_curr, pd.get_dummies(cases_US_curr['Restriction Rating']),\n",
    "          pd.get_dummies(cases_US_curr['Governer.Party'])], axis=1)\n",
    " .drop(['Current_Phase', 'Restriction Rating', 'Governer.Party', 'Date'], axis=1)).set_index('County')\n",
    "temp = cases_US_curr['Cases_2W']\n",
    "cases_US_curr = cases_US_curr.drop('Cases_2W', axis=1)\n",
    "cases_US_curr['Cases_2W'] = temp\n",
    "cases_US_curr = cases_US_curr.dropna()"
   ]
  },
  {
   "cell_type": "code",
   "execution_count": 5,
   "metadata": {},
   "outputs": [],
   "source": [
    "def calc_vif(X, thresh=10.0):\n",
    "    # Calculating VIF\n",
    "    X_numeric = X.select_dtypes(['float64', 'int64'])\n",
    "    vif = pd.DataFrame()\n",
    "    variables = list(range(X_numeric.shape[1]))\n",
    "    dropped = pd.DataFrame(columns=['variable','VIF'])\n",
    "    \n",
    "    while True:\n",
    "        vif = pd.DataFrame()\n",
    "        vif[\"variable\"] = X_numeric.iloc[:, variables].columns\n",
    "        vif[\"VIF\"] = [variance_inflation_factor(X_numeric.iloc[:, variables].values, i) \n",
    "                  for i in range(X_numeric.iloc[:, variables].shape[1])]\n",
    "        max_i = vif['VIF'].idxmax()\n",
    "        if(vif['VIF'].max() > thresh):\n",
    "            # Keep avg temp as a variable and remove 2nd largest vif value\n",
    "            if X_numeric.iloc[:, variables].columns[max_i] == 'Avg_Temp':\n",
    "                max_2nd = vif['VIF'].nlargest(2).iloc[1:].values[0]\n",
    "                if max_2nd <= thresh:\n",
    "                    continue\n",
    "                else:\n",
    "                    max_i = vif['VIF'].nlargest(2).iloc[1:].index[0]\n",
    "            dropped = dropped.append({\n",
    "                'variable': X_numeric.iloc[:, variables].columns[max_i],\n",
    "                'VIF': vif.loc[max_i, \"VIF\"]\n",
    "            }, ignore_index=True)\n",
    "            variables.pop(max_i)\n",
    "            continue\n",
    "        break\n",
    "\n",
    "    return vif, dropped\n",
    "\n",
    "vif, dropped = calc_vif(cases_US_curr.iloc[:,:-9])"
   ]
  },
  {
   "source": [
    "## U.S. Data - June 16th, 2020"
   ],
   "cell_type": "markdown",
   "metadata": {}
  },
  {
   "source": [
    "### One-hot encode descrete variables"
   ],
   "cell_type": "markdown",
   "metadata": {}
  },
  {
   "cell_type": "code",
   "execution_count": 6,
   "metadata": {},
   "outputs": [
    {
     "output_type": "execute_result",
     "data": {
      "text/plain": [
       "           Cases_Delta  Avg_Temp  Protest_Count  Perc.Over.65  Perc.White  \\\n",
       "County                                                                      \n",
       "Abbeville      0.00000  76.10000        0.00000      18.70000    69.90000   \n",
       "Accomack      11.00000  74.20000        2.00000      20.80000    69.00000   \n",
       "Ada           71.00000  64.20000        1.00000      12.10000    92.50000   \n",
       "Adair          1.00000  74.00000        0.00000      22.10000    98.50000   \n",
       "...                ...       ...            ...           ...         ...   \n",
       "Yuma           0.00000  74.40000        0.00000      17.20000    97.30000   \n",
       "Zapata         1.00000  84.40000        0.00000      11.20000    98.60000   \n",
       "Zavala         0.00000  83.20000        0.00000      12.50000    96.90000   \n",
       "Ziebach        0.00000  69.30000        0.00000       7.00000    24.30000   \n",
       "\n",
       "           Perc.Female  Perc.Black  Perc.Native  Perc.Asian  Perc.Pac.Island  \\\n",
       "County                                                                         \n",
       "Abbeville     51.40000    28.20000      0.30000     0.40000          0.00000   \n",
       "Accomack      51.50000    28.00000      0.60000     0.60000          0.20000   \n",
       "Ada           50.00000     1.30000      0.80000     2.60000          0.20000   \n",
       "Adair         50.50000     0.20000      0.10000     0.40000          0.00000   \n",
       "...                ...         ...          ...         ...              ...   \n",
       "Yuma          49.90000     0.30000      0.90000     0.40000          0.20000   \n",
       "Zapata        49.60000     0.50000      0.40000     0.20000          0.00000   \n",
       "Zavala        50.20000     1.20000      0.90000     0.10000          0.10000   \n",
       "Ziebach       50.40000     0.40000     71.60000     0.30000          0.00000   \n",
       "\n",
       "           ...  PopDensity  major/varies  minor  minor/varies  moderate  \\\n",
       "County     ...                                                            \n",
       "Abbeville  ...    19.30746             0      1             0         0   \n",
       "Accomack   ...    27.75811             0      0             0         0   \n",
       "Ada        ...   176.65322             0      1             0         0   \n",
       "Adair      ...     4.85077             0      1             0         0   \n",
       "...        ...         ...           ...    ...           ...       ...   \n",
       "Yuma       ...     1.63608             0      0             0         1   \n",
       "Zapata     ...     5.48326             0      0             1         0   \n",
       "Zavala     ...     3.52352             0      0             1         0   \n",
       "Ziebach    ...     0.54255             0      1             0         0   \n",
       "\n",
       "           moderate/varies  none  D  R   Cases_2W  \n",
       "County                                             \n",
       "Abbeville                0     0  0  1  113.00000  \n",
       "Accomack                 1     0  1  0 1042.00000  \n",
       "Ada                      0     0  0  1 2169.00000  \n",
       "Adair                    0     0  0  1   15.00000  \n",
       "...                    ...   ... .. ..        ...  \n",
       "Yuma                     0     0  1  0   52.00000  \n",
       "Zapata                   0     0  0  1   47.00000  \n",
       "Zavala                   0     0  0  1   21.00000  \n",
       "Ziebach                  0     0  0  1    2.00000  \n",
       "\n",
       "[2999 rows x 24 columns]"
      ],
      "text/html": "<div>\n<style scoped>\n    .dataframe tbody tr th:only-of-type {\n        vertical-align: middle;\n    }\n\n    .dataframe tbody tr th {\n        vertical-align: top;\n    }\n\n    .dataframe thead th {\n        text-align: right;\n    }\n</style>\n<table border=\"1\" class=\"dataframe\">\n  <thead>\n    <tr style=\"text-align: right;\">\n      <th></th>\n      <th>Cases_Delta</th>\n      <th>Avg_Temp</th>\n      <th>Protest_Count</th>\n      <th>Perc.Over.65</th>\n      <th>Perc.White</th>\n      <th>Perc.Female</th>\n      <th>Perc.Black</th>\n      <th>Perc.Native</th>\n      <th>Perc.Asian</th>\n      <th>Perc.Pac.Island</th>\n      <th>...</th>\n      <th>PopDensity</th>\n      <th>major/varies</th>\n      <th>minor</th>\n      <th>minor/varies</th>\n      <th>moderate</th>\n      <th>moderate/varies</th>\n      <th>none</th>\n      <th>D</th>\n      <th>R</th>\n      <th>Cases_2W</th>\n    </tr>\n    <tr>\n      <th>County</th>\n      <th></th>\n      <th></th>\n      <th></th>\n      <th></th>\n      <th></th>\n      <th></th>\n      <th></th>\n      <th></th>\n      <th></th>\n      <th></th>\n      <th></th>\n      <th></th>\n      <th></th>\n      <th></th>\n      <th></th>\n      <th></th>\n      <th></th>\n      <th></th>\n      <th></th>\n      <th></th>\n      <th></th>\n    </tr>\n  </thead>\n  <tbody>\n    <tr>\n      <th>Abbeville</th>\n      <td>0.00000</td>\n      <td>76.10000</td>\n      <td>0.00000</td>\n      <td>18.70000</td>\n      <td>69.90000</td>\n      <td>51.40000</td>\n      <td>28.20000</td>\n      <td>0.30000</td>\n      <td>0.40000</td>\n      <td>0.00000</td>\n      <td>...</td>\n      <td>19.30746</td>\n      <td>0</td>\n      <td>1</td>\n      <td>0</td>\n      <td>0</td>\n      <td>0</td>\n      <td>0</td>\n      <td>0</td>\n      <td>1</td>\n      <td>113.00000</td>\n    </tr>\n    <tr>\n      <th>Accomack</th>\n      <td>11.00000</td>\n      <td>74.20000</td>\n      <td>2.00000</td>\n      <td>20.80000</td>\n      <td>69.00000</td>\n      <td>51.50000</td>\n      <td>28.00000</td>\n      <td>0.60000</td>\n      <td>0.60000</td>\n      <td>0.20000</td>\n      <td>...</td>\n      <td>27.75811</td>\n      <td>0</td>\n      <td>0</td>\n      <td>0</td>\n      <td>0</td>\n      <td>1</td>\n      <td>0</td>\n      <td>1</td>\n      <td>0</td>\n      <td>1042.00000</td>\n    </tr>\n    <tr>\n      <th>Ada</th>\n      <td>71.00000</td>\n      <td>64.20000</td>\n      <td>1.00000</td>\n      <td>12.10000</td>\n      <td>92.50000</td>\n      <td>50.00000</td>\n      <td>1.30000</td>\n      <td>0.80000</td>\n      <td>2.60000</td>\n      <td>0.20000</td>\n      <td>...</td>\n      <td>176.65322</td>\n      <td>0</td>\n      <td>1</td>\n      <td>0</td>\n      <td>0</td>\n      <td>0</td>\n      <td>0</td>\n      <td>0</td>\n      <td>1</td>\n      <td>2169.00000</td>\n    </tr>\n    <tr>\n      <th>Adair</th>\n      <td>1.00000</td>\n      <td>74.00000</td>\n      <td>0.00000</td>\n      <td>22.10000</td>\n      <td>98.50000</td>\n      <td>50.50000</td>\n      <td>0.20000</td>\n      <td>0.10000</td>\n      <td>0.40000</td>\n      <td>0.00000</td>\n      <td>...</td>\n      <td>4.85077</td>\n      <td>0</td>\n      <td>1</td>\n      <td>0</td>\n      <td>0</td>\n      <td>0</td>\n      <td>0</td>\n      <td>0</td>\n      <td>1</td>\n      <td>15.00000</td>\n    </tr>\n    <tr>\n      <th>...</th>\n      <td>...</td>\n      <td>...</td>\n      <td>...</td>\n      <td>...</td>\n      <td>...</td>\n      <td>...</td>\n      <td>...</td>\n      <td>...</td>\n      <td>...</td>\n      <td>...</td>\n      <td>...</td>\n      <td>...</td>\n      <td>...</td>\n      <td>...</td>\n      <td>...</td>\n      <td>...</td>\n      <td>...</td>\n      <td>...</td>\n      <td>...</td>\n      <td>...</td>\n      <td>...</td>\n    </tr>\n    <tr>\n      <th>Yuma</th>\n      <td>0.00000</td>\n      <td>74.40000</td>\n      <td>0.00000</td>\n      <td>17.20000</td>\n      <td>97.30000</td>\n      <td>49.90000</td>\n      <td>0.30000</td>\n      <td>0.90000</td>\n      <td>0.40000</td>\n      <td>0.20000</td>\n      <td>...</td>\n      <td>1.63608</td>\n      <td>0</td>\n      <td>0</td>\n      <td>0</td>\n      <td>1</td>\n      <td>0</td>\n      <td>0</td>\n      <td>1</td>\n      <td>0</td>\n      <td>52.00000</td>\n    </tr>\n    <tr>\n      <th>Zapata</th>\n      <td>1.00000</td>\n      <td>84.40000</td>\n      <td>0.00000</td>\n      <td>11.20000</td>\n      <td>98.60000</td>\n      <td>49.60000</td>\n      <td>0.50000</td>\n      <td>0.40000</td>\n      <td>0.20000</td>\n      <td>0.00000</td>\n      <td>...</td>\n      <td>5.48326</td>\n      <td>0</td>\n      <td>0</td>\n      <td>1</td>\n      <td>0</td>\n      <td>0</td>\n      <td>0</td>\n      <td>0</td>\n      <td>1</td>\n      <td>47.00000</td>\n    </tr>\n    <tr>\n      <th>Zavala</th>\n      <td>0.00000</td>\n      <td>83.20000</td>\n      <td>0.00000</td>\n      <td>12.50000</td>\n      <td>96.90000</td>\n      <td>50.20000</td>\n      <td>1.20000</td>\n      <td>0.90000</td>\n      <td>0.10000</td>\n      <td>0.10000</td>\n      <td>...</td>\n      <td>3.52352</td>\n      <td>0</td>\n      <td>0</td>\n      <td>1</td>\n      <td>0</td>\n      <td>0</td>\n      <td>0</td>\n      <td>0</td>\n      <td>1</td>\n      <td>21.00000</td>\n    </tr>\n    <tr>\n      <th>Ziebach</th>\n      <td>0.00000</td>\n      <td>69.30000</td>\n      <td>0.00000</td>\n      <td>7.00000</td>\n      <td>24.30000</td>\n      <td>50.40000</td>\n      <td>0.40000</td>\n      <td>71.60000</td>\n      <td>0.30000</td>\n      <td>0.00000</td>\n      <td>...</td>\n      <td>0.54255</td>\n      <td>0</td>\n      <td>1</td>\n      <td>0</td>\n      <td>0</td>\n      <td>0</td>\n      <td>0</td>\n      <td>0</td>\n      <td>1</td>\n      <td>2.00000</td>\n    </tr>\n  </tbody>\n</table>\n<p>2999 rows × 24 columns</p>\n</div>"
     },
     "metadata": {},
     "execution_count": 6
    }
   ],
   "source": [
    "cases_US_curr"
   ]
  },
  {
   "source": [
    "## Calculate Variable Importance Factor to Address Multicolinearity "
   ],
   "cell_type": "markdown",
   "metadata": {}
  },
  {
   "cell_type": "code",
   "execution_count": 6,
   "metadata": {},
   "outputs": [
    {
     "output_type": "display_data",
     "data": {
      "text/html": "<style  type=\"text/css\" >\n</style><table id=\"T_00cb4e64_45b2_11eb_a4af_a4b1c1b3a90b\" style='display:inline'><caption>US VIF Values</caption><thead>    <tr>        <th class=\"blank level0\" ></th>        <th class=\"col_heading level0 col0\" >variable</th>        <th class=\"col_heading level0 col1\" >VIF</th>    </tr></thead><tbody>\n                <tr>\n                        <th id=\"T_00cb4e64_45b2_11eb_a4af_a4b1c1b3a90blevel0_row0\" class=\"row_heading level0 row0\" >0</th>\n                        <td id=\"T_00cb4e64_45b2_11eb_a4af_a4b1c1b3a90brow0_col0\" class=\"data row0 col0\" >Cases_Delta</td>\n                        <td id=\"T_00cb4e64_45b2_11eb_a4af_a4b1c1b3a90brow0_col1\" class=\"data row0 col1\" >1.356432</td>\n            </tr>\n            <tr>\n                        <th id=\"T_00cb4e64_45b2_11eb_a4af_a4b1c1b3a90blevel0_row1\" class=\"row_heading level0 row1\" >1</th>\n                        <td id=\"T_00cb4e64_45b2_11eb_a4af_a4b1c1b3a90brow1_col0\" class=\"data row1 col0\" >Avg_Temp</td>\n                        <td id=\"T_00cb4e64_45b2_11eb_a4af_a4b1c1b3a90brow1_col1\" class=\"data row1 col1\" >5.076446</td>\n            </tr>\n            <tr>\n                        <th id=\"T_00cb4e64_45b2_11eb_a4af_a4b1c1b3a90blevel0_row2\" class=\"row_heading level0 row2\" >2</th>\n                        <td id=\"T_00cb4e64_45b2_11eb_a4af_a4b1c1b3a90brow2_col0\" class=\"data row2 col0\" >Protest_Count</td>\n                        <td id=\"T_00cb4e64_45b2_11eb_a4af_a4b1c1b3a90brow2_col1\" class=\"data row2 col1\" >2.103504</td>\n            </tr>\n            <tr>\n                        <th id=\"T_00cb4e64_45b2_11eb_a4af_a4b1c1b3a90blevel0_row3\" class=\"row_heading level0 row3\" >3</th>\n                        <td id=\"T_00cb4e64_45b2_11eb_a4af_a4b1c1b3a90brow3_col0\" class=\"data row3 col0\" >Perc.Black</td>\n                        <td id=\"T_00cb4e64_45b2_11eb_a4af_a4b1c1b3a90brow3_col1\" class=\"data row3 col1\" >1.519322</td>\n            </tr>\n            <tr>\n                        <th id=\"T_00cb4e64_45b2_11eb_a4af_a4b1c1b3a90blevel0_row4\" class=\"row_heading level0 row4\" >4</th>\n                        <td id=\"T_00cb4e64_45b2_11eb_a4af_a4b1c1b3a90brow4_col0\" class=\"data row4 col0\" >Perc.Native</td>\n                        <td id=\"T_00cb4e64_45b2_11eb_a4af_a4b1c1b3a90brow4_col1\" class=\"data row4 col1\" >1.359629</td>\n            </tr>\n            <tr>\n                        <th id=\"T_00cb4e64_45b2_11eb_a4af_a4b1c1b3a90blevel0_row5\" class=\"row_heading level0 row5\" >5</th>\n                        <td id=\"T_00cb4e64_45b2_11eb_a4af_a4b1c1b3a90brow5_col0\" class=\"data row5 col0\" >Perc.Asian</td>\n                        <td id=\"T_00cb4e64_45b2_11eb_a4af_a4b1c1b3a90brow5_col1\" class=\"data row5 col1\" >3.389680</td>\n            </tr>\n            <tr>\n                        <th id=\"T_00cb4e64_45b2_11eb_a4af_a4b1c1b3a90blevel0_row6\" class=\"row_heading level0 row6\" >6</th>\n                        <td id=\"T_00cb4e64_45b2_11eb_a4af_a4b1c1b3a90brow6_col0\" class=\"data row6 col0\" >Perc.Pac.Island</td>\n                        <td id=\"T_00cb4e64_45b2_11eb_a4af_a4b1c1b3a90brow6_col1\" class=\"data row6 col1\" >1.723153</td>\n            </tr>\n            <tr>\n                        <th id=\"T_00cb4e64_45b2_11eb_a4af_a4b1c1b3a90blevel0_row7\" class=\"row_heading level0 row7\" >7</th>\n                        <td id=\"T_00cb4e64_45b2_11eb_a4af_a4b1c1b3a90brow7_col0\" class=\"data row7 col0\" >Perc.Mixed</td>\n                        <td id=\"T_00cb4e64_45b2_11eb_a4af_a4b1c1b3a90brow7_col1\" class=\"data row7 col1\" >5.349729</td>\n            </tr>\n            <tr>\n                        <th id=\"T_00cb4e64_45b2_11eb_a4af_a4b1c1b3a90blevel0_row8\" class=\"row_heading level0 row8\" >8</th>\n                        <td id=\"T_00cb4e64_45b2_11eb_a4af_a4b1c1b3a90brow8_col0\" class=\"data row8 col0\" >Perc.His.Lat</td>\n                        <td id=\"T_00cb4e64_45b2_11eb_a4af_a4b1c1b3a90brow8_col1\" class=\"data row8 col1\" >3.759431</td>\n            </tr>\n            <tr>\n                        <th id=\"T_00cb4e64_45b2_11eb_a4af_a4b1c1b3a90blevel0_row9\" class=\"row_heading level0 row9\" >9</th>\n                        <td id=\"T_00cb4e64_45b2_11eb_a4af_a4b1c1b3a90brow9_col0\" class=\"data row9 col0\" >Perc.Foreign.Born</td>\n                        <td id=\"T_00cb4e64_45b2_11eb_a4af_a4b1c1b3a90brow9_col1\" class=\"data row9 col1\" >7.367302</td>\n            </tr>\n            <tr>\n                        <th id=\"T_00cb4e64_45b2_11eb_a4af_a4b1c1b3a90blevel0_row10\" class=\"row_heading level0 row10\" >10</th>\n                        <td id=\"T_00cb4e64_45b2_11eb_a4af_a4b1c1b3a90brow10_col0\" class=\"data row10 col0\" >PopDensity</td>\n                        <td id=\"T_00cb4e64_45b2_11eb_a4af_a4b1c1b3a90brow10_col1\" class=\"data row10 col1\" >1.397636</td>\n            </tr>\n    </tbody></table><style  type=\"text/css\" >\n</style><table id=\"T_00cbc392_45b2_11eb_b7a2_a4b1c1b3a90b\" style='display:inline'><caption>Variables removed for high multicolinearity</caption><thead>    <tr>        <th class=\"blank level0\" ></th>        <th class=\"col_heading level0 col0\" >variable</th>        <th class=\"col_heading level0 col1\" >VIF</th>    </tr></thead><tbody>\n                <tr>\n                        <th id=\"T_00cbc392_45b2_11eb_b7a2_a4b1c1b3a90blevel0_row0\" class=\"row_heading level0 row0\" >0</th>\n                        <td id=\"T_00cbc392_45b2_11eb_b7a2_a4b1c1b3a90brow0_col0\" class=\"data row0 col0\" >Perc.White</td>\n                        <td id=\"T_00cbc392_45b2_11eb_b7a2_a4b1c1b3a90brow0_col1\" class=\"data row0 col1\" >696.964249</td>\n            </tr>\n            <tr>\n                        <th id=\"T_00cbc392_45b2_11eb_b7a2_a4b1c1b3a90blevel0_row1\" class=\"row_heading level0 row1\" >1</th>\n                        <td id=\"T_00cbc392_45b2_11eb_b7a2_a4b1c1b3a90brow1_col0\" class=\"data row1 col0\" >Perc.Female</td>\n                        <td id=\"T_00cbc392_45b2_11eb_b7a2_a4b1c1b3a90brow1_col1\" class=\"data row1 col1\" >316.947887</td>\n            </tr>\n            <tr>\n                        <th id=\"T_00cbc392_45b2_11eb_b7a2_a4b1c1b3a90blevel0_row2\" class=\"row_heading level0 row2\" >2</th>\n                        <td id=\"T_00cbc392_45b2_11eb_b7a2_a4b1c1b3a90brow2_col0\" class=\"data row2 col0\" >Avg.Person.Per.Household</td>\n                        <td id=\"T_00cbc392_45b2_11eb_b7a2_a4b1c1b3a90brow2_col1\" class=\"data row2 col1\" >103.292748</td>\n            </tr>\n            <tr>\n                        <th id=\"T_00cbc392_45b2_11eb_b7a2_a4b1c1b3a90blevel0_row3\" class=\"row_heading level0 row3\" >3</th>\n                        <td id=\"T_00cbc392_45b2_11eb_b7a2_a4b1c1b3a90brow3_col0\" class=\"data row3 col0\" >Perc.Over.65</td>\n                        <td id=\"T_00cbc392_45b2_11eb_b7a2_a4b1c1b3a90brow3_col1\" class=\"data row3 col1\" >18.447256</td>\n            </tr>\n    </tbody></table>"
     },
     "metadata": {}
    }
   ],
   "source": [
    "drop = list(dropped['variable'])\n",
    "cases_US_curr = cases_US_curr.drop(drop,axis=1)\n",
    "\n",
    "df1_styler = (vif.style\n",
    "                  .set_table_attributes(\"style='display:inline'\")\n",
    "                  .set_caption('US VIF Values'))\n",
    "df2_styler = (dropped.style\n",
    "                  .set_table_attributes(\"style='display:inline'\")\n",
    "                  .set_caption('Variables removed for high multicolinearity'))\n",
    "\n",
    "display_html(df1_styler._repr_html_()+df2_styler._repr_html_(), raw=True)\n",
    "\n"
   ]
  },
  {
   "cell_type": "code",
   "execution_count": 40,
   "metadata": {},
   "outputs": [],
   "source": [
    "x, y = cases_US_curr.iloc[:,1:-1], cases_US_curr['Cases_2W']\n",
    "X = x.drop(x.columns[3:13], axis=1)\n",
    "X = X.drop(['major/varies',\t'minor', 'minor/varies', 'moderate', 'moderate/varies',\t'none'], axis=1)\n",
    "\n",
    "\n",
    "X_train, X_test, y_train, y_test = train_test_split(X, y, test_size=0.25,random_state=110)"
   ]
  },
  {
   "source": [
    "# Random Forest Model"
   ],
   "cell_type": "markdown",
   "metadata": {}
  },
  {
   "source": [
    "## Remove Some Variables to Prevent Extreme Overfitting"
   ],
   "cell_type": "markdown",
   "metadata": {}
  },
  {
   "cell_type": "code",
   "execution_count": 52,
   "metadata": {},
   "outputs": [
    {
     "output_type": "execute_result",
     "data": {
      "text/plain": [
       "           Avg_Temp  Protest_Count  Perc.Over.65  PopDensity  D  R\n",
       "County                                                            \n",
       "Abbeville  76.10000        0.00000      18.70000    19.30746  0  1\n",
       "Accomack   74.20000        2.00000      20.80000    27.75811  1  0\n",
       "Ada        64.20000        1.00000      12.10000   176.65322  0  1\n",
       "Adair      74.00000        0.00000      22.10000     4.85077  0  1\n",
       "...             ...            ...           ...         ... .. ..\n",
       "Yuma       74.40000        0.00000      17.20000     1.63608  1  0\n",
       "Zapata     84.40000        0.00000      11.20000     5.48326  0  1\n",
       "Zavala     83.20000        0.00000      12.50000     3.52352  0  1\n",
       "Ziebach    69.30000        0.00000       7.00000     0.54255  0  1\n",
       "\n",
       "[2999 rows x 6 columns]"
      ],
      "text/html": "<div>\n<style scoped>\n    .dataframe tbody tr th:only-of-type {\n        vertical-align: middle;\n    }\n\n    .dataframe tbody tr th {\n        vertical-align: top;\n    }\n\n    .dataframe thead th {\n        text-align: right;\n    }\n</style>\n<table border=\"1\" class=\"dataframe\">\n  <thead>\n    <tr style=\"text-align: right;\">\n      <th></th>\n      <th>Avg_Temp</th>\n      <th>Protest_Count</th>\n      <th>Perc.Over.65</th>\n      <th>PopDensity</th>\n      <th>D</th>\n      <th>R</th>\n    </tr>\n    <tr>\n      <th>County</th>\n      <th></th>\n      <th></th>\n      <th></th>\n      <th></th>\n      <th></th>\n      <th></th>\n    </tr>\n  </thead>\n  <tbody>\n    <tr>\n      <th>Abbeville</th>\n      <td>76.10000</td>\n      <td>0.00000</td>\n      <td>18.70000</td>\n      <td>19.30746</td>\n      <td>0</td>\n      <td>1</td>\n    </tr>\n    <tr>\n      <th>Accomack</th>\n      <td>74.20000</td>\n      <td>2.00000</td>\n      <td>20.80000</td>\n      <td>27.75811</td>\n      <td>1</td>\n      <td>0</td>\n    </tr>\n    <tr>\n      <th>Ada</th>\n      <td>64.20000</td>\n      <td>1.00000</td>\n      <td>12.10000</td>\n      <td>176.65322</td>\n      <td>0</td>\n      <td>1</td>\n    </tr>\n    <tr>\n      <th>Adair</th>\n      <td>74.00000</td>\n      <td>0.00000</td>\n      <td>22.10000</td>\n      <td>4.85077</td>\n      <td>0</td>\n      <td>1</td>\n    </tr>\n    <tr>\n      <th>...</th>\n      <td>...</td>\n      <td>...</td>\n      <td>...</td>\n      <td>...</td>\n      <td>...</td>\n      <td>...</td>\n    </tr>\n    <tr>\n      <th>Yuma</th>\n      <td>74.40000</td>\n      <td>0.00000</td>\n      <td>17.20000</td>\n      <td>1.63608</td>\n      <td>1</td>\n      <td>0</td>\n    </tr>\n    <tr>\n      <th>Zapata</th>\n      <td>84.40000</td>\n      <td>0.00000</td>\n      <td>11.20000</td>\n      <td>5.48326</td>\n      <td>0</td>\n      <td>1</td>\n    </tr>\n    <tr>\n      <th>Zavala</th>\n      <td>83.20000</td>\n      <td>0.00000</td>\n      <td>12.50000</td>\n      <td>3.52352</td>\n      <td>0</td>\n      <td>1</td>\n    </tr>\n    <tr>\n      <th>Ziebach</th>\n      <td>69.30000</td>\n      <td>0.00000</td>\n      <td>7.00000</td>\n      <td>0.54255</td>\n      <td>0</td>\n      <td>1</td>\n    </tr>\n  </tbody>\n</table>\n<p>2999 rows × 6 columns</p>\n</div>"
     },
     "metadata": {},
     "execution_count": 52
    }
   ],
   "source": [
    "X"
   ]
  },
  {
   "source": [
    "## Estimate Model"
   ],
   "cell_type": "markdown",
   "metadata": {}
  },
  {
   "cell_type": "code",
   "execution_count": 42,
   "metadata": {},
   "outputs": [
    {
     "output_type": "stream",
     "name": "stdout",
     "text": [
      "Fitting 3 folds for each of 100 candidates, totalling 300 fits\n",
      "[Parallel(n_jobs=-1)]: Using backend LokyBackend with 12 concurrent workers.\n",
      "[Parallel(n_jobs=-1)]: Done  17 tasks      | elapsed:    9.3s\n",
      "[Parallel(n_jobs=-1)]: Done 138 tasks      | elapsed:  1.5min\n",
      "[Parallel(n_jobs=-1)]: Done 300 out of 300 | elapsed:  3.2min finished\n"
     ]
    }
   ],
   "source": [
    "# Number of trees in random forest\n",
    "n_estimators = [int(x) for x in np.linspace(start = 100, stop = 2000, num = 10)]\n",
    "# Number of features to consider at every split\n",
    "max_features = ['auto', 'sqrt']\n",
    "# Maximum number of levels in tree\n",
    "max_depth = [int(x) for x in np.linspace(10, 110, num = 11)]\n",
    "max_depth.append(None)\n",
    "# Minimum number of samples required to split a node\n",
    "min_samples_split = [int(x) for x in np.linspace(start = 2, stop = 11, num = 10)]\n",
    "# Minimum number of samples required at each leaf node\n",
    "min_samples_leaf = [int(x) for x in np.linspace(start = 1, stop = 5, num = 5)]\n",
    "# Method of selecting samples for training each tree\n",
    "bootstrap = [True, False]\n",
    "# Create the random grid\n",
    "random_grid = {'n_estimators': n_estimators,\n",
    "               'max_features': max_features,\n",
    "               'max_depth': max_depth,\n",
    "               'min_samples_split': min_samples_split,\n",
    "               'min_samples_leaf': min_samples_leaf,\n",
    "               'bootstrap': bootstrap}\n",
    "\n",
    "rf = RandomForestRegressor()\n",
    "rf_random = RandomizedSearchCV(estimator = rf, param_distributions = random_grid, n_iter = 100,\n",
    "                               cv = 3, verbose=2, random_state=42, n_jobs = -1)\n",
    "rf_random.fit(X_train, y_train)\n",
    "\n",
    "save_model(rf_random, \"../models/random_forest_cv.sav\")"
   ]
  },
  {
   "cell_type": "code",
   "execution_count": 43,
   "metadata": {},
   "outputs": [
    {
     "output_type": "stream",
     "name": "stdout",
     "text": [
      "RandomForestRegressor(bootstrap=False, max_features='sqrt', min_samples_leaf=2,\n                      min_samples_split=7, n_estimators=944)\n"
     ]
    }
   ],
   "source": [
    "rf_random = load_model(\"../models/random_forest_cv.sav\")\n",
    "rf_model = rf_random.best_estimator_\n",
    "print(rf_model)"
   ]
  },
  {
   "source": [
    "## Results"
   ],
   "cell_type": "markdown",
   "metadata": {}
  },
  {
   "cell_type": "code",
   "execution_count": 45,
   "metadata": {},
   "outputs": [],
   "source": [
    "results = pd.DataFrame(rf_random.cv_results_)\n",
    "results.loc[results['rank_test_score'] > 1, 'color'] = 'blue'\n",
    "results.loc[results['rank_test_score'] == 1, 'color'] = 'red'\n",
    "best_n = results.loc[results['mean_test_score'] == results['mean_test_score'].max(), 'param_n_estimators'].values[0]\n",
    "\n",
    "hover = HoverTool(tooltips=[\n",
    "    ('Estimators', '@n_estimators'),\n",
    "    ('Score', '@score{0.00000}'),\n",
    "    ('Max Features', '@param_max_features'),\n",
    "    ('Bootstrap', '@param_bootstrap')\n",
    "    ])\n",
    "\n",
    "p = figure(title = \"CV of Random Forest Model\", plot_height=500, plot_width=750,\n",
    "           tools=[hover])\n",
    "\n",
    "source = ColumnDataSource(data=dict(\n",
    "    color=results['color'],\n",
    "    n_estimators=results['param_n_estimators'],\n",
    "    score=results['mean_test_score'],\n",
    "    param_max_features=results['param_max_features'],\n",
    "    param_bootstrap=results['param_bootstrap'],\n",
    "\n",
    "))\n",
    "\n",
    "\n",
    "p.circle('n_estimators', 'score',line_width=2, source=source)\n",
    "vline = Span(location=best_n, dimension='height', line_color='red', line_dash='dashed',line_width=2)\n",
    "p.renderers.extend([vline])\n",
    "\n",
    "p.xaxis.axis_label = '# of Trees'\n",
    "p.yaxis.axis_label = 'coefficient of determination (r²)'\n",
    "\n",
    "output_file('../assets/img/Bokeh/rf_cv.html')\n",
    "\n",
    "show(p)"
   ]
  },
  {
   "source": [
    "<iframe src=\"assets/img/Bokeh/rf_cv.html\"\n",
    "    sandbox=\"allow-same-origin allow-scripts\"\n",
    "    width=\"100%\"\n",
    "    height=\"550\"\n",
    "    scrolling=\"no\"\n",
    "    seamless=\"seamless\"\n",
    "    frameborder=\"0\">\n",
    "</iframe>"
   ],
   "cell_type": "markdown",
   "metadata": {}
  },
  {
   "cell_type": "code",
   "execution_count": 46,
   "metadata": {},
   "outputs": [],
   "source": [
    "def evaluate(model, test_features, test_labels):\n",
    "    predictions = model.predict(test_features)\n",
    "    return pd.DataFrame({\n",
    "        'Average RMSE': [sqrt(metrics.mean_squared_error(predictions, test_labels))],\n",
    "        'Average MAE': [metrics.mean_absolute_error(predictions, test_labels)],\n",
    "        'R2': [metrics.r2_score(test_labels, predictions)]\n",
    "    })\n"
   ]
  },
  {
   "source": [
    "Training Set Metrics:"
   ],
   "cell_type": "markdown",
   "metadata": {}
  },
  {
   "cell_type": "code",
   "execution_count": 47,
   "metadata": {},
   "outputs": [
    {
     "output_type": "execute_result",
     "data": {
      "text/plain": [
       "   Average RMSE  Average MAE      R2\n",
       "0    1154.52989    242.88126 0.91936"
      ],
      "text/html": "<div>\n<style scoped>\n    .dataframe tbody tr th:only-of-type {\n        vertical-align: middle;\n    }\n\n    .dataframe tbody tr th {\n        vertical-align: top;\n    }\n\n    .dataframe thead th {\n        text-align: right;\n    }\n</style>\n<table border=\"1\" class=\"dataframe\">\n  <thead>\n    <tr style=\"text-align: right;\">\n      <th></th>\n      <th>Average RMSE</th>\n      <th>Average MAE</th>\n      <th>R2</th>\n    </tr>\n  </thead>\n  <tbody>\n    <tr>\n      <th>0</th>\n      <td>1154.52989</td>\n      <td>242.88126</td>\n      <td>0.91936</td>\n    </tr>\n  </tbody>\n</table>\n</div>"
     },
     "metadata": {},
     "execution_count": 47
    }
   ],
   "source": [
    "evaluate(rf_model, X_train, y_train)"
   ]
  },
  {
   "source": [
    "Testing Set Metrics:"
   ],
   "cell_type": "markdown",
   "metadata": {}
  },
  {
   "cell_type": "code",
   "execution_count": 49,
   "metadata": {},
   "outputs": [
    {
     "output_type": "execute_result",
     "data": {
      "text/plain": [
       "   Average RMSE  Average MAE      R2\n",
       "0    1348.35293    380.72626 0.57213"
      ],
      "text/html": "<div>\n<style scoped>\n    .dataframe tbody tr th:only-of-type {\n        vertical-align: middle;\n    }\n\n    .dataframe tbody tr th {\n        vertical-align: top;\n    }\n\n    .dataframe thead th {\n        text-align: right;\n    }\n</style>\n<table border=\"1\" class=\"dataframe\">\n  <thead>\n    <tr style=\"text-align: right;\">\n      <th></th>\n      <th>Average RMSE</th>\n      <th>Average MAE</th>\n      <th>R2</th>\n    </tr>\n  </thead>\n  <tbody>\n    <tr>\n      <th>0</th>\n      <td>1348.35293</td>\n      <td>380.72626</td>\n      <td>0.57213</td>\n    </tr>\n  </tbody>\n</table>\n</div>"
     },
     "metadata": {},
     "execution_count": 49
    }
   ],
   "source": [
    "evaluate(rf_model, X_test, y_test)"
   ]
  },
  {
   "cell_type": "code",
   "execution_count": 50,
   "metadata": {},
   "outputs": [],
   "source": [
    "importances = list(rf_model.feature_importances_)\n",
    "feature_importances = [(feature, round(importance, 2)) for feature, importance in zip(list(cases_US.columns), importances)]\n",
    "feature_importances = sorted(feature_importances, key = lambda x: x[1])\n",
    "feature_importances = dict(feature_importances)\n",
    "\n",
    "\n",
    "hover = HoverTool(tooltips=[\n",
    "    ('Variable', '@Variables'),\n",
    "    ('Importance', '@Importance{0.00}')\n",
    "    ])\n",
    "\n",
    "p = figure(y_range=list(feature_importances.keys()), plot_height=500, width=750, \n",
    "           title=\"Random Forest Variable Importance\", tools=[hover])\n",
    "source=ColumnDataSource(data=dict(\n",
    "    Variables=list(feature_importances.keys()),\n",
    "    Importance=list(feature_importances.values())\n",
    "))\n",
    "\n",
    "p.hbar(y='Variables', right='Importance',left=0, height=0.9, source=source)\n",
    "p.yaxis.major_label_orientation = \"horizontal\"\n",
    "\n",
    "p.xaxis.axis_label = 'Variable Importance'\n",
    "p.yaxis.axis_label = 'Vasriable Name'\n",
    "p.ygrid.grid_line_color = None\n",
    "\n",
    "output_file('../assets/img/Bokeh/rf_imp.html')\n",
    "\n",
    "show(p)"
   ]
  },
  {
   "cell_type": "markdown",
   "metadata": {},
   "source": [
    "<iframe src=\"assets/img/Bokeh/rf_imp.html\"\n",
    "    sandbox=\"allow-same-origin allow-scripts\"\n",
    "    width=\"100%\"\n",
    "    height=\"550\"\n",
    "    scrolling=\"no\"\n",
    "    seamless=\"seamless\"\n",
    "    frameborder=\"0\">\n",
    "</iframe>"
   ]
  },
  {
   "source": [
    "***The random forest model struggles to not be overfit. I changed which variables are used in several different combinations and the test set R2 seems to hover around 0.6. It seems that the random forest uses governer party as the main indicator of how many predicted cases there will be.***"
   ],
   "cell_type": "markdown",
   "metadata": {}
  },
  {
   "source": [
    "# K-Means Clustering Model"
   ],
   "cell_type": "markdown",
   "metadata": {}
  },
  {
   "cell_type": "code",
   "execution_count": 11,
   "metadata": {},
   "outputs": [],
   "source": [
    "distortions = []\n",
    "K = range(2,10)\n",
    "for k in K:\n",
    "    clust_mod = KMeans(n_clusters=k)\n",
    "    labels = clust_mod.fit_predict(cases_US_curr)\n",
    "    distortions.append(clust_mod.inertia_)\n",
    "\n",
    "plt.figure(figsize=(16,8))\n",
    "plt.plot(K, distortions, 'bx-')\n",
    "plt.xlabel('k')\n",
    "plt.ylabel('Distortion')\n",
    "plt.title('The Elbow Method showing the optimal k')\n",
    "plt.axvline(x=4, color='red', linestyle='--')\n",
    "# plt.savefig('../assets/img/matplotlib/kmeans.png')"
   ]
  },
  {
   "source": [
    "![img](assets/img/matplotlib/kmeans.png)"
   ],
   "cell_type": "markdown",
   "metadata": {}
  },
  {
   "cell_type": "code",
   "execution_count": 59,
   "metadata": {},
   "outputs": [
    {
     "output_type": "execute_result",
     "data": {
      "text/plain": [
       "         Cases_Delta  Avg_Temp  Protest_Count  Perc.Over.65  Perc.White  \\\n",
       "cluster                                                                   \n",
       "0            4.33368  72.18405        0.80206      17.45814    86.77299   \n",
       "1          311.22222  75.20000       15.88889      13.71111    72.47778   \n",
       "2         1209.00000  71.00000       45.00000      12.30000    68.70000   \n",
       "3           79.33333  73.54231        8.87179      13.30256    74.39872   \n",
       "\n",
       "         Perc.Female  Perc.Black  Perc.Native  Perc.Asian  Perc.Pac.Island  \\\n",
       "cluster                                                                      \n",
       "0           49.90880     8.30014      2.00337     1.08598          0.08213   \n",
       "1           51.31111    18.87778      0.84444     5.71111          0.10000   \n",
       "2           51.10000    16.90000      1.15000    10.75000          0.25000   \n",
       "3           51.06538    15.81154      0.88077     6.36667          0.17564   \n",
       "\n",
       "         Perc.Mixed  Perc.His.Lat  Perc.Foreign.Born  \\\n",
       "cluster                                                \n",
       "0           1.74986       8.61467            4.05708   \n",
       "1           1.98889      24.45556           21.25556   \n",
       "2           2.35000      36.50000           28.10000   \n",
       "3           2.36154      20.74487           17.31538   \n",
       "\n",
       "         Avg.Person.Per.Household  PopDensity  major/varies   minor  \\\n",
       "cluster                                                               \n",
       "0                         2.51682    60.02445       0.01753 0.50412   \n",
       "1                         2.78000  1285.27432       0.00000 0.22222   \n",
       "2                         2.83000  1529.36069       0.50000 0.00000   \n",
       "3                         2.68654   808.02379       0.07692 0.25641   \n",
       "\n",
       "         minor/varies  moderate  moderate/varies    none       D       R  \\\n",
       "cluster                                                                    \n",
       "0             0.20069   0.14261          0.11615 0.01890 0.37560 0.62440   \n",
       "1             0.22222   0.22222          0.33333 0.00000 0.55556 0.44444   \n",
       "2             0.00000   0.00000          0.50000 0.00000 1.00000 0.00000   \n",
       "3             0.14103   0.34615          0.17949 0.00000 0.53846 0.46154   \n",
       "\n",
       "           Cases_2W  \n",
       "cluster              \n",
       "0         328.19691  \n",
       "1       34191.77778  \n",
       "2       97193.00000  \n",
       "3       10706.94872  "
      ],
      "text/html": "<div>\n<style scoped>\n    .dataframe tbody tr th:only-of-type {\n        vertical-align: middle;\n    }\n\n    .dataframe tbody tr th {\n        vertical-align: top;\n    }\n\n    .dataframe thead th {\n        text-align: right;\n    }\n</style>\n<table border=\"1\" class=\"dataframe\">\n  <thead>\n    <tr style=\"text-align: right;\">\n      <th></th>\n      <th>Cases_Delta</th>\n      <th>Avg_Temp</th>\n      <th>Protest_Count</th>\n      <th>Perc.Over.65</th>\n      <th>Perc.White</th>\n      <th>Perc.Female</th>\n      <th>Perc.Black</th>\n      <th>Perc.Native</th>\n      <th>Perc.Asian</th>\n      <th>Perc.Pac.Island</th>\n      <th>Perc.Mixed</th>\n      <th>Perc.His.Lat</th>\n      <th>Perc.Foreign.Born</th>\n      <th>Avg.Person.Per.Household</th>\n      <th>PopDensity</th>\n      <th>major/varies</th>\n      <th>minor</th>\n      <th>minor/varies</th>\n      <th>moderate</th>\n      <th>moderate/varies</th>\n      <th>none</th>\n      <th>D</th>\n      <th>R</th>\n      <th>Cases_2W</th>\n    </tr>\n    <tr>\n      <th>cluster</th>\n      <th></th>\n      <th></th>\n      <th></th>\n      <th></th>\n      <th></th>\n      <th></th>\n      <th></th>\n      <th></th>\n      <th></th>\n      <th></th>\n      <th></th>\n      <th></th>\n      <th></th>\n      <th></th>\n      <th></th>\n      <th></th>\n      <th></th>\n      <th></th>\n      <th></th>\n      <th></th>\n      <th></th>\n      <th></th>\n      <th></th>\n      <th></th>\n    </tr>\n  </thead>\n  <tbody>\n    <tr>\n      <th>0</th>\n      <td>4.33368</td>\n      <td>72.18405</td>\n      <td>0.80206</td>\n      <td>17.45814</td>\n      <td>86.77299</td>\n      <td>49.90880</td>\n      <td>8.30014</td>\n      <td>2.00337</td>\n      <td>1.08598</td>\n      <td>0.08213</td>\n      <td>1.74986</td>\n      <td>8.61467</td>\n      <td>4.05708</td>\n      <td>2.51682</td>\n      <td>60.02445</td>\n      <td>0.01753</td>\n      <td>0.50412</td>\n      <td>0.20069</td>\n      <td>0.14261</td>\n      <td>0.11615</td>\n      <td>0.01890</td>\n      <td>0.37560</td>\n      <td>0.62440</td>\n      <td>328.19691</td>\n    </tr>\n    <tr>\n      <th>1</th>\n      <td>311.22222</td>\n      <td>75.20000</td>\n      <td>15.88889</td>\n      <td>13.71111</td>\n      <td>72.47778</td>\n      <td>51.31111</td>\n      <td>18.87778</td>\n      <td>0.84444</td>\n      <td>5.71111</td>\n      <td>0.10000</td>\n      <td>1.98889</td>\n      <td>24.45556</td>\n      <td>21.25556</td>\n      <td>2.78000</td>\n      <td>1285.27432</td>\n      <td>0.00000</td>\n      <td>0.22222</td>\n      <td>0.22222</td>\n      <td>0.22222</td>\n      <td>0.33333</td>\n      <td>0.00000</td>\n      <td>0.55556</td>\n      <td>0.44444</td>\n      <td>34191.77778</td>\n    </tr>\n    <tr>\n      <th>2</th>\n      <td>1209.00000</td>\n      <td>71.00000</td>\n      <td>45.00000</td>\n      <td>12.30000</td>\n      <td>68.70000</td>\n      <td>51.10000</td>\n      <td>16.90000</td>\n      <td>1.15000</td>\n      <td>10.75000</td>\n      <td>0.25000</td>\n      <td>2.35000</td>\n      <td>36.50000</td>\n      <td>28.10000</td>\n      <td>2.83000</td>\n      <td>1529.36069</td>\n      <td>0.50000</td>\n      <td>0.00000</td>\n      <td>0.00000</td>\n      <td>0.00000</td>\n      <td>0.50000</td>\n      <td>0.00000</td>\n      <td>1.00000</td>\n      <td>0.00000</td>\n      <td>97193.00000</td>\n    </tr>\n    <tr>\n      <th>3</th>\n      <td>79.33333</td>\n      <td>73.54231</td>\n      <td>8.87179</td>\n      <td>13.30256</td>\n      <td>74.39872</td>\n      <td>51.06538</td>\n      <td>15.81154</td>\n      <td>0.88077</td>\n      <td>6.36667</td>\n      <td>0.17564</td>\n      <td>2.36154</td>\n      <td>20.74487</td>\n      <td>17.31538</td>\n      <td>2.68654</td>\n      <td>808.02379</td>\n      <td>0.07692</td>\n      <td>0.25641</td>\n      <td>0.14103</td>\n      <td>0.34615</td>\n      <td>0.17949</td>\n      <td>0.00000</td>\n      <td>0.53846</td>\n      <td>0.46154</td>\n      <td>10706.94872</td>\n    </tr>\n  </tbody>\n</table>\n</div>"
     },
     "metadata": {},
     "execution_count": 59
    }
   ],
   "source": [
    "clust_mod = KMeans(n_clusters=4)\n",
    "clust_mod.fit(cases_US_curr)\n",
    "cases_US_curr['cluster'] = clust_mod.labels_\n",
    "\n",
    "cases_US_clust = cases_US_curr.groupby('cluster').mean()\n",
    "cases_US_clust"
   ]
  },
  {
   "source": [
    "## Cluster 0"
   ],
   "cell_type": "markdown",
   "metadata": {}
  },
  {
   "cell_type": "code",
   "execution_count": 64,
   "metadata": {},
   "outputs": [
    {
     "output_type": "execute_result",
     "data": {
      "text/plain": [
       "           Cases_Delta  Avg_Temp  Protest_Count  Perc.Over.65  Perc.White  \\\n",
       "County                                                                      \n",
       "Abbeville      0.00000  76.10000        0.00000      18.70000    69.90000   \n",
       "Accomack      11.00000  74.20000        2.00000      20.80000    69.00000   \n",
       "Ada           71.00000  64.20000        1.00000      12.10000    92.50000   \n",
       "Adair          1.00000  74.00000        0.00000      22.10000    98.50000   \n",
       "...                ...       ...            ...           ...         ...   \n",
       "Yuma           0.00000  74.40000        0.00000      17.20000    97.30000   \n",
       "Zapata         1.00000  84.40000        0.00000      11.20000    98.60000   \n",
       "Zavala         0.00000  83.20000        0.00000      12.50000    96.90000   \n",
       "Ziebach        0.00000  69.30000        0.00000       7.00000    24.30000   \n",
       "\n",
       "           Perc.Female  Perc.Black  Perc.Native  Perc.Asian  Perc.Pac.Island  \\\n",
       "County                                                                         \n",
       "Abbeville     51.40000    28.20000      0.30000     0.40000          0.00000   \n",
       "Accomack      51.50000    28.00000      0.60000     0.60000          0.20000   \n",
       "Ada           50.00000     1.30000      0.80000     2.60000          0.20000   \n",
       "Adair         50.50000     0.20000      0.10000     0.40000          0.00000   \n",
       "...                ...         ...          ...         ...              ...   \n",
       "Yuma          49.90000     0.30000      0.90000     0.40000          0.20000   \n",
       "Zapata        49.60000     0.50000      0.40000     0.20000          0.00000   \n",
       "Zavala        50.20000     1.20000      0.90000     0.10000          0.10000   \n",
       "Ziebach       50.40000     0.40000     71.60000     0.30000          0.00000   \n",
       "\n",
       "           Perc.Mixed  Perc.His.Lat  Perc.Foreign.Born  \\\n",
       "County                                                   \n",
       "Abbeville     1.30000       1.20000            1.00000   \n",
       "Accomack      1.50000       9.00000            7.00000   \n",
       "Ada           2.60000       7.50000            5.90000   \n",
       "Adair         0.70000       1.50000            1.10000   \n",
       "...               ...           ...                ...   \n",
       "Yuma          0.80000      21.60000           10.90000   \n",
       "Zapata        0.20000      93.50000           24.50000   \n",
       "Zavala        0.70000      92.90000           11.20000   \n",
       "Ziebach       3.40000       3.70000            0.90000   \n",
       "\n",
       "           Avg.Person.Per.Household  PopDensity  major/varies  minor  \\\n",
       "County                                                                 \n",
       "Abbeville                   2.49000    19.30746             0      1   \n",
       "Accomack                    2.25000    27.75811             0      0   \n",
       "Ada                         2.60000   176.65322             0      1   \n",
       "Adair                       2.26000     4.85077             0      1   \n",
       "...                             ...         ...           ...    ...   \n",
       "Yuma                        2.61000     1.63608             0      0   \n",
       "Zapata                      3.17000     5.48326             0      0   \n",
       "Zavala                      3.15000     3.52352             0      0   \n",
       "Ziebach                     3.51000     0.54255             0      1   \n",
       "\n",
       "           minor/varies  moderate  moderate/varies  none  D  R   Cases_2W  \\\n",
       "County                                                                      \n",
       "Abbeville             0         0                0     0  0  1  113.00000   \n",
       "Accomack              0         0                1     0  1  0 1042.00000   \n",
       "Ada                   0         0                0     0  0  1 2169.00000   \n",
       "Adair                 0         0                0     0  0  1   15.00000   \n",
       "...                 ...       ...              ...   ... .. ..        ...   \n",
       "Yuma                  0         1                0     0  1  0   52.00000   \n",
       "Zapata                1         0                0     0  0  1   47.00000   \n",
       "Zavala                1         0                0     0  0  1   21.00000   \n",
       "Ziebach               0         0                0     0  0  1    2.00000   \n",
       "\n",
       "           cluster  \n",
       "County              \n",
       "Abbeville        0  \n",
       "Accomack         0  \n",
       "Ada              0  \n",
       "Adair            0  \n",
       "...            ...  \n",
       "Yuma             0  \n",
       "Zapata           0  \n",
       "Zavala           0  \n",
       "Ziebach          0  \n",
       "\n",
       "[2910 rows x 25 columns]"
      ],
      "text/html": "<div>\n<style scoped>\n    .dataframe tbody tr th:only-of-type {\n        vertical-align: middle;\n    }\n\n    .dataframe tbody tr th {\n        vertical-align: top;\n    }\n\n    .dataframe thead th {\n        text-align: right;\n    }\n</style>\n<table border=\"1\" class=\"dataframe\">\n  <thead>\n    <tr style=\"text-align: right;\">\n      <th></th>\n      <th>Cases_Delta</th>\n      <th>Avg_Temp</th>\n      <th>Protest_Count</th>\n      <th>Perc.Over.65</th>\n      <th>Perc.White</th>\n      <th>Perc.Female</th>\n      <th>Perc.Black</th>\n      <th>Perc.Native</th>\n      <th>Perc.Asian</th>\n      <th>Perc.Pac.Island</th>\n      <th>Perc.Mixed</th>\n      <th>Perc.His.Lat</th>\n      <th>Perc.Foreign.Born</th>\n      <th>Avg.Person.Per.Household</th>\n      <th>PopDensity</th>\n      <th>major/varies</th>\n      <th>minor</th>\n      <th>minor/varies</th>\n      <th>moderate</th>\n      <th>moderate/varies</th>\n      <th>none</th>\n      <th>D</th>\n      <th>R</th>\n      <th>Cases_2W</th>\n      <th>cluster</th>\n    </tr>\n    <tr>\n      <th>County</th>\n      <th></th>\n      <th></th>\n      <th></th>\n      <th></th>\n      <th></th>\n      <th></th>\n      <th></th>\n      <th></th>\n      <th></th>\n      <th></th>\n      <th></th>\n      <th></th>\n      <th></th>\n      <th></th>\n      <th></th>\n      <th></th>\n      <th></th>\n      <th></th>\n      <th></th>\n      <th></th>\n      <th></th>\n      <th></th>\n      <th></th>\n      <th></th>\n      <th></th>\n    </tr>\n  </thead>\n  <tbody>\n    <tr>\n      <th>Abbeville</th>\n      <td>0.00000</td>\n      <td>76.10000</td>\n      <td>0.00000</td>\n      <td>18.70000</td>\n      <td>69.90000</td>\n      <td>51.40000</td>\n      <td>28.20000</td>\n      <td>0.30000</td>\n      <td>0.40000</td>\n      <td>0.00000</td>\n      <td>1.30000</td>\n      <td>1.20000</td>\n      <td>1.00000</td>\n      <td>2.49000</td>\n      <td>19.30746</td>\n      <td>0</td>\n      <td>1</td>\n      <td>0</td>\n      <td>0</td>\n      <td>0</td>\n      <td>0</td>\n      <td>0</td>\n      <td>1</td>\n      <td>113.00000</td>\n      <td>0</td>\n    </tr>\n    <tr>\n      <th>Accomack</th>\n      <td>11.00000</td>\n      <td>74.20000</td>\n      <td>2.00000</td>\n      <td>20.80000</td>\n      <td>69.00000</td>\n      <td>51.50000</td>\n      <td>28.00000</td>\n      <td>0.60000</td>\n      <td>0.60000</td>\n      <td>0.20000</td>\n      <td>1.50000</td>\n      <td>9.00000</td>\n      <td>7.00000</td>\n      <td>2.25000</td>\n      <td>27.75811</td>\n      <td>0</td>\n      <td>0</td>\n      <td>0</td>\n      <td>0</td>\n      <td>1</td>\n      <td>0</td>\n      <td>1</td>\n      <td>0</td>\n      <td>1042.00000</td>\n      <td>0</td>\n    </tr>\n    <tr>\n      <th>Ada</th>\n      <td>71.00000</td>\n      <td>64.20000</td>\n      <td>1.00000</td>\n      <td>12.10000</td>\n      <td>92.50000</td>\n      <td>50.00000</td>\n      <td>1.30000</td>\n      <td>0.80000</td>\n      <td>2.60000</td>\n      <td>0.20000</td>\n      <td>2.60000</td>\n      <td>7.50000</td>\n      <td>5.90000</td>\n      <td>2.60000</td>\n      <td>176.65322</td>\n      <td>0</td>\n      <td>1</td>\n      <td>0</td>\n      <td>0</td>\n      <td>0</td>\n      <td>0</td>\n      <td>0</td>\n      <td>1</td>\n      <td>2169.00000</td>\n      <td>0</td>\n    </tr>\n    <tr>\n      <th>Adair</th>\n      <td>1.00000</td>\n      <td>74.00000</td>\n      <td>0.00000</td>\n      <td>22.10000</td>\n      <td>98.50000</td>\n      <td>50.50000</td>\n      <td>0.20000</td>\n      <td>0.10000</td>\n      <td>0.40000</td>\n      <td>0.00000</td>\n      <td>0.70000</td>\n      <td>1.50000</td>\n      <td>1.10000</td>\n      <td>2.26000</td>\n      <td>4.85077</td>\n      <td>0</td>\n      <td>1</td>\n      <td>0</td>\n      <td>0</td>\n      <td>0</td>\n      <td>0</td>\n      <td>0</td>\n      <td>1</td>\n      <td>15.00000</td>\n      <td>0</td>\n    </tr>\n    <tr>\n      <th>...</th>\n      <td>...</td>\n      <td>...</td>\n      <td>...</td>\n      <td>...</td>\n      <td>...</td>\n      <td>...</td>\n      <td>...</td>\n      <td>...</td>\n      <td>...</td>\n      <td>...</td>\n      <td>...</td>\n      <td>...</td>\n      <td>...</td>\n      <td>...</td>\n      <td>...</td>\n      <td>...</td>\n      <td>...</td>\n      <td>...</td>\n      <td>...</td>\n      <td>...</td>\n      <td>...</td>\n      <td>...</td>\n      <td>...</td>\n      <td>...</td>\n      <td>...</td>\n    </tr>\n    <tr>\n      <th>Yuma</th>\n      <td>0.00000</td>\n      <td>74.40000</td>\n      <td>0.00000</td>\n      <td>17.20000</td>\n      <td>97.30000</td>\n      <td>49.90000</td>\n      <td>0.30000</td>\n      <td>0.90000</td>\n      <td>0.40000</td>\n      <td>0.20000</td>\n      <td>0.80000</td>\n      <td>21.60000</td>\n      <td>10.90000</td>\n      <td>2.61000</td>\n      <td>1.63608</td>\n      <td>0</td>\n      <td>0</td>\n      <td>0</td>\n      <td>1</td>\n      <td>0</td>\n      <td>0</td>\n      <td>1</td>\n      <td>0</td>\n      <td>52.00000</td>\n      <td>0</td>\n    </tr>\n    <tr>\n      <th>Zapata</th>\n      <td>1.00000</td>\n      <td>84.40000</td>\n      <td>0.00000</td>\n      <td>11.20000</td>\n      <td>98.60000</td>\n      <td>49.60000</td>\n      <td>0.50000</td>\n      <td>0.40000</td>\n      <td>0.20000</td>\n      <td>0.00000</td>\n      <td>0.20000</td>\n      <td>93.50000</td>\n      <td>24.50000</td>\n      <td>3.17000</td>\n      <td>5.48326</td>\n      <td>0</td>\n      <td>0</td>\n      <td>1</td>\n      <td>0</td>\n      <td>0</td>\n      <td>0</td>\n      <td>0</td>\n      <td>1</td>\n      <td>47.00000</td>\n      <td>0</td>\n    </tr>\n    <tr>\n      <th>Zavala</th>\n      <td>0.00000</td>\n      <td>83.20000</td>\n      <td>0.00000</td>\n      <td>12.50000</td>\n      <td>96.90000</td>\n      <td>50.20000</td>\n      <td>1.20000</td>\n      <td>0.90000</td>\n      <td>0.10000</td>\n      <td>0.10000</td>\n      <td>0.70000</td>\n      <td>92.90000</td>\n      <td>11.20000</td>\n      <td>3.15000</td>\n      <td>3.52352</td>\n      <td>0</td>\n      <td>0</td>\n      <td>1</td>\n      <td>0</td>\n      <td>0</td>\n      <td>0</td>\n      <td>0</td>\n      <td>1</td>\n      <td>21.00000</td>\n      <td>0</td>\n    </tr>\n    <tr>\n      <th>Ziebach</th>\n      <td>0.00000</td>\n      <td>69.30000</td>\n      <td>0.00000</td>\n      <td>7.00000</td>\n      <td>24.30000</td>\n      <td>50.40000</td>\n      <td>0.40000</td>\n      <td>71.60000</td>\n      <td>0.30000</td>\n      <td>0.00000</td>\n      <td>3.40000</td>\n      <td>3.70000</td>\n      <td>0.90000</td>\n      <td>3.51000</td>\n      <td>0.54255</td>\n      <td>0</td>\n      <td>1</td>\n      <td>0</td>\n      <td>0</td>\n      <td>0</td>\n      <td>0</td>\n      <td>0</td>\n      <td>1</td>\n      <td>2.00000</td>\n      <td>0</td>\n    </tr>\n  </tbody>\n</table>\n<p>2910 rows × 25 columns</p>\n</div>"
     },
     "metadata": {},
     "execution_count": 64
    }
   ],
   "source": [
    "cases_US_curr[cases_US_curr['cluster'] == 0]"
   ]
  },
  {
   "source": [
    "***Cluster 0 consists of most counties in the country. These are low population, Republican led, mostly white, vitually no protests, and have generally small concern for COVID-19 exmplaining the majority of minor restrictions.***"
   ],
   "cell_type": "markdown",
   "metadata": {}
  },
  {
   "source": [
    "## Cluster 1"
   ],
   "cell_type": "markdown",
   "metadata": {}
  },
  {
   "cell_type": "code",
   "execution_count": 61,
   "metadata": {},
   "outputs": [
    {
     "output_type": "execute_result",
     "data": {
      "text/plain": [
       "              Cases_Delta  Avg_Temp  Protest_Count  Perc.Over.65  Perc.White  \\\n",
       "County                                                                         \n",
       "Harris          450.00000  81.40000        5.00000       9.00000    70.70000   \n",
       "Maricopa       1497.00000  86.00000       11.00000      13.40000    84.70000   \n",
       "Miami-Dade      532.00000  83.20000        7.00000      14.90000    77.80000   \n",
       "Middlesex        77.00000  69.20000       26.00000      13.80000    81.70000   \n",
       "...                   ...       ...            ...           ...         ...   \n",
       "Philadelphia     64.00000  74.20000        1.00000      12.40000    45.50000   \n",
       "Suffolk          32.00000  69.40000       37.00000      14.90000    85.60000   \n",
       "Wayne            92.00000  70.60000       13.00000      13.50000    54.70000   \n",
       "Westchester      27.00000  71.00000       18.00000      15.40000    74.90000   \n",
       "\n",
       "              Perc.Female  Perc.Black  Perc.Native  Perc.Asian  \\\n",
       "County                                                           \n",
       "Harris           50.10000    19.50000      1.10000     6.80000   \n",
       "Maricopa         50.50000     5.70000      2.70000     4.00000   \n",
       "Miami-Dade       51.40000    19.00000      0.30000     1.70000   \n",
       "Middlesex        51.20000     5.40000      0.30000    10.50000   \n",
       "...                   ...         ...          ...         ...   \n",
       "Philadelphia     52.70000    44.20000      0.80000     6.90000   \n",
       "Suffolk          50.80000     8.20000      0.60000     3.80000   \n",
       "Wayne            51.90000    39.60000      0.50000     2.90000   \n",
       "Westchester      51.70000    15.90000      0.80000     6.10000   \n",
       "\n",
       "              Perc.Pac.Island  Perc.Mixed  Perc.His.Lat  Perc.Foreign.Born  \\\n",
       "County                                                                       \n",
       "Harris                0.10000     1.70000      41.60000           25.00000   \n",
       "Maricopa              0.30000     2.70000      30.00000           14.90000   \n",
       "Miami-Dade            0.00000     1.20000      65.60000           51.30000   \n",
       "Middlesex             0.10000     2.10000       7.30000           19.30000   \n",
       "...                       ...         ...           ...                ...   \n",
       "Philadelphia          0.10000     2.40000      13.30000           12.20000   \n",
       "Suffolk               0.10000     1.70000      17.70000           14.50000   \n",
       "Wayne                 0.00000     2.30000       5.60000            7.80000   \n",
       "Westchester           0.10000     2.20000      23.30000           25.00000   \n",
       "\n",
       "              Avg.Person.Per.Household  PopDensity  major/varies  minor  \\\n",
       "County                                                                    \n",
       "Harris                         2.89000  1068.29762             0      0   \n",
       "Maricopa                       2.72000   188.23918             0      1   \n",
       "Miami-Dade                     3.02000   552.77682             0      1   \n",
       "Middlesex                      2.52000   760.90094             0      0   \n",
       "...                                ...         ...           ...    ...   \n",
       "Philadelphia                   2.56000  4560.85073             0      0   \n",
       "Suffolk                        2.95000   625.09557             0      0   \n",
       "Wayne                          2.66000  1103.49075             0      0   \n",
       "Westchester                    2.71000   867.72563             0      0   \n",
       "\n",
       "              minor/varies  moderate  moderate/varies  none  D  R    Cases_2W  \\\n",
       "County                                                                          \n",
       "Harris                   1         0                0     0  0  1 31422.00000   \n",
       "Maricopa                 0         0                0     0  0  1 48592.00000   \n",
       "Miami-Dade               0         0                0     0  0  1 36820.00000   \n",
       "Middlesex                0         1                0     0  0  1 23962.00000   \n",
       "...                    ...       ...              ...   ... .. ..         ...   \n",
       "Philadelphia             0         1                0     0  1  0 26133.00000   \n",
       "Suffolk                  0         0                1     0  1  0 41385.00000   \n",
       "Wayne                    1         0                0     0  1  0 22767.00000   \n",
       "Westchester              0         0                1     0  1  0 34838.00000   \n",
       "\n",
       "              cluster  \n",
       "County                 \n",
       "Harris              1  \n",
       "Maricopa            1  \n",
       "Miami-Dade          1  \n",
       "Middlesex           1  \n",
       "...               ...  \n",
       "Philadelphia        1  \n",
       "Suffolk             1  \n",
       "Wayne               1  \n",
       "Westchester         1  \n",
       "\n",
       "[9 rows x 25 columns]"
      ],
      "text/html": "<div>\n<style scoped>\n    .dataframe tbody tr th:only-of-type {\n        vertical-align: middle;\n    }\n\n    .dataframe tbody tr th {\n        vertical-align: top;\n    }\n\n    .dataframe thead th {\n        text-align: right;\n    }\n</style>\n<table border=\"1\" class=\"dataframe\">\n  <thead>\n    <tr style=\"text-align: right;\">\n      <th></th>\n      <th>Cases_Delta</th>\n      <th>Avg_Temp</th>\n      <th>Protest_Count</th>\n      <th>Perc.Over.65</th>\n      <th>Perc.White</th>\n      <th>Perc.Female</th>\n      <th>Perc.Black</th>\n      <th>Perc.Native</th>\n      <th>Perc.Asian</th>\n      <th>Perc.Pac.Island</th>\n      <th>Perc.Mixed</th>\n      <th>Perc.His.Lat</th>\n      <th>Perc.Foreign.Born</th>\n      <th>Avg.Person.Per.Household</th>\n      <th>PopDensity</th>\n      <th>major/varies</th>\n      <th>minor</th>\n      <th>minor/varies</th>\n      <th>moderate</th>\n      <th>moderate/varies</th>\n      <th>none</th>\n      <th>D</th>\n      <th>R</th>\n      <th>Cases_2W</th>\n      <th>cluster</th>\n    </tr>\n    <tr>\n      <th>County</th>\n      <th></th>\n      <th></th>\n      <th></th>\n      <th></th>\n      <th></th>\n      <th></th>\n      <th></th>\n      <th></th>\n      <th></th>\n      <th></th>\n      <th></th>\n      <th></th>\n      <th></th>\n      <th></th>\n      <th></th>\n      <th></th>\n      <th></th>\n      <th></th>\n      <th></th>\n      <th></th>\n      <th></th>\n      <th></th>\n      <th></th>\n      <th></th>\n      <th></th>\n    </tr>\n  </thead>\n  <tbody>\n    <tr>\n      <th>Harris</th>\n      <td>450.00000</td>\n      <td>81.40000</td>\n      <td>5.00000</td>\n      <td>9.00000</td>\n      <td>70.70000</td>\n      <td>50.10000</td>\n      <td>19.50000</td>\n      <td>1.10000</td>\n      <td>6.80000</td>\n      <td>0.10000</td>\n      <td>1.70000</td>\n      <td>41.60000</td>\n      <td>25.00000</td>\n      <td>2.89000</td>\n      <td>1068.29762</td>\n      <td>0</td>\n      <td>0</td>\n      <td>1</td>\n      <td>0</td>\n      <td>0</td>\n      <td>0</td>\n      <td>0</td>\n      <td>1</td>\n      <td>31422.00000</td>\n      <td>1</td>\n    </tr>\n    <tr>\n      <th>Maricopa</th>\n      <td>1497.00000</td>\n      <td>86.00000</td>\n      <td>11.00000</td>\n      <td>13.40000</td>\n      <td>84.70000</td>\n      <td>50.50000</td>\n      <td>5.70000</td>\n      <td>2.70000</td>\n      <td>4.00000</td>\n      <td>0.30000</td>\n      <td>2.70000</td>\n      <td>30.00000</td>\n      <td>14.90000</td>\n      <td>2.72000</td>\n      <td>188.23918</td>\n      <td>0</td>\n      <td>1</td>\n      <td>0</td>\n      <td>0</td>\n      <td>0</td>\n      <td>0</td>\n      <td>0</td>\n      <td>1</td>\n      <td>48592.00000</td>\n      <td>1</td>\n    </tr>\n    <tr>\n      <th>Miami-Dade</th>\n      <td>532.00000</td>\n      <td>83.20000</td>\n      <td>7.00000</td>\n      <td>14.90000</td>\n      <td>77.80000</td>\n      <td>51.40000</td>\n      <td>19.00000</td>\n      <td>0.30000</td>\n      <td>1.70000</td>\n      <td>0.00000</td>\n      <td>1.20000</td>\n      <td>65.60000</td>\n      <td>51.30000</td>\n      <td>3.02000</td>\n      <td>552.77682</td>\n      <td>0</td>\n      <td>1</td>\n      <td>0</td>\n      <td>0</td>\n      <td>0</td>\n      <td>0</td>\n      <td>0</td>\n      <td>1</td>\n      <td>36820.00000</td>\n      <td>1</td>\n    </tr>\n    <tr>\n      <th>Middlesex</th>\n      <td>77.00000</td>\n      <td>69.20000</td>\n      <td>26.00000</td>\n      <td>13.80000</td>\n      <td>81.70000</td>\n      <td>51.20000</td>\n      <td>5.40000</td>\n      <td>0.30000</td>\n      <td>10.50000</td>\n      <td>0.10000</td>\n      <td>2.10000</td>\n      <td>7.30000</td>\n      <td>19.30000</td>\n      <td>2.52000</td>\n      <td>760.90094</td>\n      <td>0</td>\n      <td>0</td>\n      <td>0</td>\n      <td>1</td>\n      <td>0</td>\n      <td>0</td>\n      <td>0</td>\n      <td>1</td>\n      <td>23962.00000</td>\n      <td>1</td>\n    </tr>\n    <tr>\n      <th>...</th>\n      <td>...</td>\n      <td>...</td>\n      <td>...</td>\n      <td>...</td>\n      <td>...</td>\n      <td>...</td>\n      <td>...</td>\n      <td>...</td>\n      <td>...</td>\n      <td>...</td>\n      <td>...</td>\n      <td>...</td>\n      <td>...</td>\n      <td>...</td>\n      <td>...</td>\n      <td>...</td>\n      <td>...</td>\n      <td>...</td>\n      <td>...</td>\n      <td>...</td>\n      <td>...</td>\n      <td>...</td>\n      <td>...</td>\n      <td>...</td>\n      <td>...</td>\n    </tr>\n    <tr>\n      <th>Philadelphia</th>\n      <td>64.00000</td>\n      <td>74.20000</td>\n      <td>1.00000</td>\n      <td>12.40000</td>\n      <td>45.50000</td>\n      <td>52.70000</td>\n      <td>44.20000</td>\n      <td>0.80000</td>\n      <td>6.90000</td>\n      <td>0.10000</td>\n      <td>2.40000</td>\n      <td>13.30000</td>\n      <td>12.20000</td>\n      <td>2.56000</td>\n      <td>4560.85073</td>\n      <td>0</td>\n      <td>0</td>\n      <td>0</td>\n      <td>1</td>\n      <td>0</td>\n      <td>0</td>\n      <td>1</td>\n      <td>0</td>\n      <td>26133.00000</td>\n      <td>1</td>\n    </tr>\n    <tr>\n      <th>Suffolk</th>\n      <td>32.00000</td>\n      <td>69.40000</td>\n      <td>37.00000</td>\n      <td>14.90000</td>\n      <td>85.60000</td>\n      <td>50.80000</td>\n      <td>8.20000</td>\n      <td>0.60000</td>\n      <td>3.80000</td>\n      <td>0.10000</td>\n      <td>1.70000</td>\n      <td>17.70000</td>\n      <td>14.50000</td>\n      <td>2.95000</td>\n      <td>625.09557</td>\n      <td>0</td>\n      <td>0</td>\n      <td>0</td>\n      <td>0</td>\n      <td>1</td>\n      <td>0</td>\n      <td>1</td>\n      <td>0</td>\n      <td>41385.00000</td>\n      <td>1</td>\n    </tr>\n    <tr>\n      <th>Wayne</th>\n      <td>92.00000</td>\n      <td>70.60000</td>\n      <td>13.00000</td>\n      <td>13.50000</td>\n      <td>54.70000</td>\n      <td>51.90000</td>\n      <td>39.60000</td>\n      <td>0.50000</td>\n      <td>2.90000</td>\n      <td>0.00000</td>\n      <td>2.30000</td>\n      <td>5.60000</td>\n      <td>7.80000</td>\n      <td>2.66000</td>\n      <td>1103.49075</td>\n      <td>0</td>\n      <td>0</td>\n      <td>1</td>\n      <td>0</td>\n      <td>0</td>\n      <td>0</td>\n      <td>1</td>\n      <td>0</td>\n      <td>22767.00000</td>\n      <td>1</td>\n    </tr>\n    <tr>\n      <th>Westchester</th>\n      <td>27.00000</td>\n      <td>71.00000</td>\n      <td>18.00000</td>\n      <td>15.40000</td>\n      <td>74.90000</td>\n      <td>51.70000</td>\n      <td>15.90000</td>\n      <td>0.80000</td>\n      <td>6.10000</td>\n      <td>0.10000</td>\n      <td>2.20000</td>\n      <td>23.30000</td>\n      <td>25.00000</td>\n      <td>2.71000</td>\n      <td>867.72563</td>\n      <td>0</td>\n      <td>0</td>\n      <td>0</td>\n      <td>0</td>\n      <td>1</td>\n      <td>0</td>\n      <td>1</td>\n      <td>0</td>\n      <td>34838.00000</td>\n      <td>1</td>\n    </tr>\n  </tbody>\n</table>\n<p>9 rows × 25 columns</p>\n</div>"
     },
     "metadata": {},
     "execution_count": 61
    }
   ],
   "source": [
    "cases_US_curr[cases_US_curr['cluster'] == 1]"
   ]
  },
  {
   "source": [
    "***The counties in cluster 1 are mostly consist of medium to large cities that have a pretty even split of political leadership, a high black population, and started to have growth in cases. These have yet to spike like cluster 2, but are showing signs of more outbreaks. A significant statistic of this cluster is that there were no counties that had major restrictions. This would be an interesting group of counties to conduct further analysis of after June 2020 as it has notable variance around a number of features.***"
   ],
   "cell_type": "markdown",
   "metadata": {}
  },
  {
   "source": [
    "## Cluster 2"
   ],
   "cell_type": "markdown",
   "metadata": {}
  },
  {
   "cell_type": "code",
   "execution_count": 62,
   "metadata": {},
   "outputs": [
    {
     "output_type": "execute_result",
     "data": {
      "text/plain": [
       "             Cases_Delta  Avg_Temp  Protest_Count  Perc.Over.65  Perc.White  \\\n",
       "County                                                                        \n",
       "Cook           320.00000  71.70000       32.00000      12.70000    65.90000   \n",
       "Los Angeles   2098.00000  70.30000       58.00000      11.90000    71.50000   \n",
       "\n",
       "             Perc.Female  Perc.Black  Perc.Native  Perc.Asian  \\\n",
       "County                                                          \n",
       "Cook            51.50000    24.60000      0.80000     6.90000   \n",
       "Los Angeles     50.70000     9.20000      1.50000    14.60000   \n",
       "\n",
       "             Perc.Pac.Island  Perc.Mixed  Perc.His.Lat  Perc.Foreign.Born  \\\n",
       "County                                                                      \n",
       "Cook                 0.10000     1.80000      24.70000           21.10000   \n",
       "Los Angeles          0.40000     2.90000      48.30000           35.10000   \n",
       "\n",
       "             Avg.Person.Per.Household  PopDensity  major/varies  minor  \\\n",
       "County                                                                   \n",
       "Cook                          2.65000  2103.51372             0      0   \n",
       "Los Angeles                   3.01000   955.20766             1      0   \n",
       "\n",
       "             minor/varies  moderate  moderate/varies  none  D  R     Cases_2W  \\\n",
       "County                                                                          \n",
       "Cook                    0         0                1     0  1  0  90536.00000   \n",
       "Los Angeles             0         0                0     0  1  0 103850.00000   \n",
       "\n",
       "             cluster  \n",
       "County                \n",
       "Cook               2  \n",
       "Los Angeles        2  "
      ],
      "text/html": "<div>\n<style scoped>\n    .dataframe tbody tr th:only-of-type {\n        vertical-align: middle;\n    }\n\n    .dataframe tbody tr th {\n        vertical-align: top;\n    }\n\n    .dataframe thead th {\n        text-align: right;\n    }\n</style>\n<table border=\"1\" class=\"dataframe\">\n  <thead>\n    <tr style=\"text-align: right;\">\n      <th></th>\n      <th>Cases_Delta</th>\n      <th>Avg_Temp</th>\n      <th>Protest_Count</th>\n      <th>Perc.Over.65</th>\n      <th>Perc.White</th>\n      <th>Perc.Female</th>\n      <th>Perc.Black</th>\n      <th>Perc.Native</th>\n      <th>Perc.Asian</th>\n      <th>Perc.Pac.Island</th>\n      <th>Perc.Mixed</th>\n      <th>Perc.His.Lat</th>\n      <th>Perc.Foreign.Born</th>\n      <th>Avg.Person.Per.Household</th>\n      <th>PopDensity</th>\n      <th>major/varies</th>\n      <th>minor</th>\n      <th>minor/varies</th>\n      <th>moderate</th>\n      <th>moderate/varies</th>\n      <th>none</th>\n      <th>D</th>\n      <th>R</th>\n      <th>Cases_2W</th>\n      <th>cluster</th>\n    </tr>\n    <tr>\n      <th>County</th>\n      <th></th>\n      <th></th>\n      <th></th>\n      <th></th>\n      <th></th>\n      <th></th>\n      <th></th>\n      <th></th>\n      <th></th>\n      <th></th>\n      <th></th>\n      <th></th>\n      <th></th>\n      <th></th>\n      <th></th>\n      <th></th>\n      <th></th>\n      <th></th>\n      <th></th>\n      <th></th>\n      <th></th>\n      <th></th>\n      <th></th>\n      <th></th>\n      <th></th>\n    </tr>\n  </thead>\n  <tbody>\n    <tr>\n      <th>Cook</th>\n      <td>320.00000</td>\n      <td>71.70000</td>\n      <td>32.00000</td>\n      <td>12.70000</td>\n      <td>65.90000</td>\n      <td>51.50000</td>\n      <td>24.60000</td>\n      <td>0.80000</td>\n      <td>6.90000</td>\n      <td>0.10000</td>\n      <td>1.80000</td>\n      <td>24.70000</td>\n      <td>21.10000</td>\n      <td>2.65000</td>\n      <td>2103.51372</td>\n      <td>0</td>\n      <td>0</td>\n      <td>0</td>\n      <td>0</td>\n      <td>1</td>\n      <td>0</td>\n      <td>1</td>\n      <td>0</td>\n      <td>90536.00000</td>\n      <td>2</td>\n    </tr>\n    <tr>\n      <th>Los Angeles</th>\n      <td>2098.00000</td>\n      <td>70.30000</td>\n      <td>58.00000</td>\n      <td>11.90000</td>\n      <td>71.50000</td>\n      <td>50.70000</td>\n      <td>9.20000</td>\n      <td>1.50000</td>\n      <td>14.60000</td>\n      <td>0.40000</td>\n      <td>2.90000</td>\n      <td>48.30000</td>\n      <td>35.10000</td>\n      <td>3.01000</td>\n      <td>955.20766</td>\n      <td>1</td>\n      <td>0</td>\n      <td>0</td>\n      <td>0</td>\n      <td>0</td>\n      <td>0</td>\n      <td>1</td>\n      <td>0</td>\n      <td>103850.00000</td>\n      <td>2</td>\n    </tr>\n  </tbody>\n</table>\n</div>"
     },
     "metadata": {},
     "execution_count": 62
    }
   ],
   "source": [
    "cases_US_curr[cases_US_curr['cluster'] == 2]"
   ]
  },
  {
   "source": [
    "***This cluster took the two worst counties in the country at the time, LA and Cook, which have very similar numbers. It is interesting that it separated these two from the rest in cluster 1. An interesting future analysis could be to compare the differences between cluster 1 and 2.***"
   ],
   "cell_type": "markdown",
   "metadata": {}
  },
  {
   "source": [
    "## Cluster 3"
   ],
   "cell_type": "markdown",
   "metadata": {}
  },
  {
   "cell_type": "code",
   "execution_count": 63,
   "metadata": {},
   "outputs": [
    {
     "output_type": "execute_result",
     "data": {
      "text/plain": [
       "           Cases_Delta  Avg_Temp  Protest_Count  Perc.Over.65  Perc.White  \\\n",
       "County                                                                      \n",
       "Alameda       52.00000  69.50000       14.00000      12.20000    52.00000   \n",
       "Baltimore     81.00000  72.80000        7.00000      15.50000    64.10000   \n",
       "Bergen        27.00000  71.90000       19.00000      15.80000    75.00000   \n",
       "Bexar        439.00000  81.50000        2.00000      11.00000    85.40000   \n",
       "...                ...       ...            ...           ...         ...   \n",
       "Will          31.00000  72.50000        4.00000      10.70000    81.00000   \n",
       "Worcester     18.00000  67.80000       15.00000      13.80000    88.00000   \n",
       "Yakima        54.00000  58.80000        3.00000      12.50000    88.20000   \n",
       "Yuma           0.00000  86.40000        1.00000      16.80000    91.30000   \n",
       "\n",
       "           Perc.Female  Perc.Black  Perc.Native  Perc.Asian  Perc.Pac.Island  \\\n",
       "County                                                                         \n",
       "Alameda       51.00000    12.40000      1.20000    28.20000          1.00000   \n",
       "Baltimore     52.60000    27.50000      0.40000     5.70000          0.10000   \n",
       "Bergen        51.60000     6.70000      0.40000    15.90000          0.10000   \n",
       "Bexar         50.80000     8.20000      1.20000     2.80000          0.20000   \n",
       "...                ...         ...          ...         ...              ...   \n",
       "Will          50.30000    11.60000      0.40000     5.10000          0.10000   \n",
       "Worcester     50.70000     5.10000      0.40000     4.50000          0.10000   \n",
       "Yakima        49.80000     1.50000      5.90000     1.40000          0.20000   \n",
       "Yuma          48.90000     2.70000      2.20000     1.50000          0.20000   \n",
       "\n",
       "           Perc.Mixed  Perc.His.Lat  Perc.Foreign.Born  \\\n",
       "County                                                   \n",
       "Alameda       5.20000      22.70000           30.80000   \n",
       "Baltimore     2.30000       4.80000           11.10000   \n",
       "Bergen        1.90000      17.90000           29.60000   \n",
       "Bexar         2.10000      59.10000           13.10000   \n",
       "...               ...           ...                ...   \n",
       "Will          1.70000      16.30000           11.70000   \n",
       "Worcester     1.90000      10.10000           11.30000   \n",
       "Yakima        2.80000      47.00000           18.10000   \n",
       "Yuma          2.00000      61.10000           25.30000   \n",
       "\n",
       "           Avg.Person.Per.Household  PopDensity  major/varies  minor  \\\n",
       "County                                                                 \n",
       "Alameda                     2.76000   873.18782             1      0   \n",
       "Baltimore                   2.52000   533.92798             0      0   \n",
       "Bergen                      2.69000  1544.67594             0      0   \n",
       "Bexar                       2.84000   623.94215             0      0   \n",
       "...                             ...         ...           ...    ...   \n",
       "Will                        3.02000   318.66888             0      0   \n",
       "Worcester                   2.59000   212.27898             0      0   \n",
       "Yakima                      3.02000    22.55029             0      0   \n",
       "Yuma                        2.73000    14.96984             0      1   \n",
       "\n",
       "           minor/varies  moderate  moderate/varies  none  D  R    Cases_2W  \\\n",
       "County                                                                       \n",
       "Alameda               0         0                0     0  1  0  5964.00000   \n",
       "Baltimore             0         0                1     0  0  1  7985.00000   \n",
       "Bergen                0         1                0     0  1  0 19423.00000   \n",
       "Bexar                 1         0                0     0  0  1 10797.00000   \n",
       "...                 ...       ...              ...   ... .. ..         ...   \n",
       "Will                  0         0                1     0  1  0  6686.00000   \n",
       "Worcester             0         1                0     0  0  1 12350.00000   \n",
       "Yakima                0         0                1     0  1  0  7071.00000   \n",
       "Yuma                  0         0                0     0  0  1  6225.00000   \n",
       "\n",
       "           cluster  \n",
       "County              \n",
       "Alameda          3  \n",
       "Baltimore        3  \n",
       "Bergen           3  \n",
       "Bexar            3  \n",
       "...            ...  \n",
       "Will             3  \n",
       "Worcester        3  \n",
       "Yakima           3  \n",
       "Yuma             3  \n",
       "\n",
       "[78 rows x 25 columns]"
      ],
      "text/html": "<div>\n<style scoped>\n    .dataframe tbody tr th:only-of-type {\n        vertical-align: middle;\n    }\n\n    .dataframe tbody tr th {\n        vertical-align: top;\n    }\n\n    .dataframe thead th {\n        text-align: right;\n    }\n</style>\n<table border=\"1\" class=\"dataframe\">\n  <thead>\n    <tr style=\"text-align: right;\">\n      <th></th>\n      <th>Cases_Delta</th>\n      <th>Avg_Temp</th>\n      <th>Protest_Count</th>\n      <th>Perc.Over.65</th>\n      <th>Perc.White</th>\n      <th>Perc.Female</th>\n      <th>Perc.Black</th>\n      <th>Perc.Native</th>\n      <th>Perc.Asian</th>\n      <th>Perc.Pac.Island</th>\n      <th>Perc.Mixed</th>\n      <th>Perc.His.Lat</th>\n      <th>Perc.Foreign.Born</th>\n      <th>Avg.Person.Per.Household</th>\n      <th>PopDensity</th>\n      <th>major/varies</th>\n      <th>minor</th>\n      <th>minor/varies</th>\n      <th>moderate</th>\n      <th>moderate/varies</th>\n      <th>none</th>\n      <th>D</th>\n      <th>R</th>\n      <th>Cases_2W</th>\n      <th>cluster</th>\n    </tr>\n    <tr>\n      <th>County</th>\n      <th></th>\n      <th></th>\n      <th></th>\n      <th></th>\n      <th></th>\n      <th></th>\n      <th></th>\n      <th></th>\n      <th></th>\n      <th></th>\n      <th></th>\n      <th></th>\n      <th></th>\n      <th></th>\n      <th></th>\n      <th></th>\n      <th></th>\n      <th></th>\n      <th></th>\n      <th></th>\n      <th></th>\n      <th></th>\n      <th></th>\n      <th></th>\n      <th></th>\n    </tr>\n  </thead>\n  <tbody>\n    <tr>\n      <th>Alameda</th>\n      <td>52.00000</td>\n      <td>69.50000</td>\n      <td>14.00000</td>\n      <td>12.20000</td>\n      <td>52.00000</td>\n      <td>51.00000</td>\n      <td>12.40000</td>\n      <td>1.20000</td>\n      <td>28.20000</td>\n      <td>1.00000</td>\n      <td>5.20000</td>\n      <td>22.70000</td>\n      <td>30.80000</td>\n      <td>2.76000</td>\n      <td>873.18782</td>\n      <td>1</td>\n      <td>0</td>\n      <td>0</td>\n      <td>0</td>\n      <td>0</td>\n      <td>0</td>\n      <td>1</td>\n      <td>0</td>\n      <td>5964.00000</td>\n      <td>3</td>\n    </tr>\n    <tr>\n      <th>Baltimore</th>\n      <td>81.00000</td>\n      <td>72.80000</td>\n      <td>7.00000</td>\n      <td>15.50000</td>\n      <td>64.10000</td>\n      <td>52.60000</td>\n      <td>27.50000</td>\n      <td>0.40000</td>\n      <td>5.70000</td>\n      <td>0.10000</td>\n      <td>2.30000</td>\n      <td>4.80000</td>\n      <td>11.10000</td>\n      <td>2.52000</td>\n      <td>533.92798</td>\n      <td>0</td>\n      <td>0</td>\n      <td>0</td>\n      <td>0</td>\n      <td>1</td>\n      <td>0</td>\n      <td>0</td>\n      <td>1</td>\n      <td>7985.00000</td>\n      <td>3</td>\n    </tr>\n    <tr>\n      <th>Bergen</th>\n      <td>27.00000</td>\n      <td>71.90000</td>\n      <td>19.00000</td>\n      <td>15.80000</td>\n      <td>75.00000</td>\n      <td>51.60000</td>\n      <td>6.70000</td>\n      <td>0.40000</td>\n      <td>15.90000</td>\n      <td>0.10000</td>\n      <td>1.90000</td>\n      <td>17.90000</td>\n      <td>29.60000</td>\n      <td>2.69000</td>\n      <td>1544.67594</td>\n      <td>0</td>\n      <td>0</td>\n      <td>0</td>\n      <td>1</td>\n      <td>0</td>\n      <td>0</td>\n      <td>1</td>\n      <td>0</td>\n      <td>19423.00000</td>\n      <td>3</td>\n    </tr>\n    <tr>\n      <th>Bexar</th>\n      <td>439.00000</td>\n      <td>81.50000</td>\n      <td>2.00000</td>\n      <td>11.00000</td>\n      <td>85.40000</td>\n      <td>50.80000</td>\n      <td>8.20000</td>\n      <td>1.20000</td>\n      <td>2.80000</td>\n      <td>0.20000</td>\n      <td>2.10000</td>\n      <td>59.10000</td>\n      <td>13.10000</td>\n      <td>2.84000</td>\n      <td>623.94215</td>\n      <td>0</td>\n      <td>0</td>\n      <td>1</td>\n      <td>0</td>\n      <td>0</td>\n      <td>0</td>\n      <td>0</td>\n      <td>1</td>\n      <td>10797.00000</td>\n      <td>3</td>\n    </tr>\n    <tr>\n      <th>...</th>\n      <td>...</td>\n      <td>...</td>\n      <td>...</td>\n      <td>...</td>\n      <td>...</td>\n      <td>...</td>\n      <td>...</td>\n      <td>...</td>\n      <td>...</td>\n      <td>...</td>\n      <td>...</td>\n      <td>...</td>\n      <td>...</td>\n      <td>...</td>\n      <td>...</td>\n      <td>...</td>\n      <td>...</td>\n      <td>...</td>\n      <td>...</td>\n      <td>...</td>\n      <td>...</td>\n      <td>...</td>\n      <td>...</td>\n      <td>...</td>\n      <td>...</td>\n    </tr>\n    <tr>\n      <th>Will</th>\n      <td>31.00000</td>\n      <td>72.50000</td>\n      <td>4.00000</td>\n      <td>10.70000</td>\n      <td>81.00000</td>\n      <td>50.30000</td>\n      <td>11.60000</td>\n      <td>0.40000</td>\n      <td>5.10000</td>\n      <td>0.10000</td>\n      <td>1.70000</td>\n      <td>16.30000</td>\n      <td>11.70000</td>\n      <td>3.02000</td>\n      <td>318.66888</td>\n      <td>0</td>\n      <td>0</td>\n      <td>0</td>\n      <td>0</td>\n      <td>1</td>\n      <td>0</td>\n      <td>1</td>\n      <td>0</td>\n      <td>6686.00000</td>\n      <td>3</td>\n    </tr>\n    <tr>\n      <th>Worcester</th>\n      <td>18.00000</td>\n      <td>67.80000</td>\n      <td>15.00000</td>\n      <td>13.80000</td>\n      <td>88.00000</td>\n      <td>50.70000</td>\n      <td>5.10000</td>\n      <td>0.40000</td>\n      <td>4.50000</td>\n      <td>0.10000</td>\n      <td>1.90000</td>\n      <td>10.10000</td>\n      <td>11.30000</td>\n      <td>2.59000</td>\n      <td>212.27898</td>\n      <td>0</td>\n      <td>0</td>\n      <td>0</td>\n      <td>1</td>\n      <td>0</td>\n      <td>0</td>\n      <td>0</td>\n      <td>1</td>\n      <td>12350.00000</td>\n      <td>3</td>\n    </tr>\n    <tr>\n      <th>Yakima</th>\n      <td>54.00000</td>\n      <td>58.80000</td>\n      <td>3.00000</td>\n      <td>12.50000</td>\n      <td>88.20000</td>\n      <td>49.80000</td>\n      <td>1.50000</td>\n      <td>5.90000</td>\n      <td>1.40000</td>\n      <td>0.20000</td>\n      <td>2.80000</td>\n      <td>47.00000</td>\n      <td>18.10000</td>\n      <td>3.02000</td>\n      <td>22.55029</td>\n      <td>0</td>\n      <td>0</td>\n      <td>0</td>\n      <td>0</td>\n      <td>1</td>\n      <td>0</td>\n      <td>1</td>\n      <td>0</td>\n      <td>7071.00000</td>\n      <td>3</td>\n    </tr>\n    <tr>\n      <th>Yuma</th>\n      <td>0.00000</td>\n      <td>86.40000</td>\n      <td>1.00000</td>\n      <td>16.80000</td>\n      <td>91.30000</td>\n      <td>48.90000</td>\n      <td>2.70000</td>\n      <td>2.20000</td>\n      <td>1.50000</td>\n      <td>0.20000</td>\n      <td>2.00000</td>\n      <td>61.10000</td>\n      <td>25.30000</td>\n      <td>2.73000</td>\n      <td>14.96984</td>\n      <td>0</td>\n      <td>1</td>\n      <td>0</td>\n      <td>0</td>\n      <td>0</td>\n      <td>0</td>\n      <td>0</td>\n      <td>1</td>\n      <td>6225.00000</td>\n      <td>3</td>\n    </tr>\n  </tbody>\n</table>\n<p>78 rows × 25 columns</p>\n</div>"
     },
     "metadata": {},
     "execution_count": 63
    }
   ],
   "source": [
    "cases_US_curr[cases_US_curr['cluster'] == 3]"
   ]
  },
  {
   "source": [
    "***Cluster 3 is very similar to cluster 1 as it contains more medium sized counties/cities although the main difference being these counties have yet to have major outbreaks. Comparing cluster 1 and 3 could help identify what is correlated with more cases 2 weeks later.***"
   ],
   "cell_type": "markdown",
   "metadata": {}
  }
 ],
 "metadata": {
  "hide_input": false,
  "kernelspec": {
   "name": "python3",
   "display_name": "Python 3.8.3 64-bit (conda)",
   "metadata": {
    "interpreter": {
     "hash": "be2e7877c44afa397199e9cfbcd571547135c18cd55cff007376fb6d8ac3a739"
    }
   }
  },
  "language_info": {
   "codemirror_mode": {
    "name": "ipython",
    "version": 3
   },
   "file_extension": ".py",
   "mimetype": "text/x-python",
   "name": "python",
   "nbconvert_exporter": "python",
   "pygments_lexer": "ipython3",
   "version": "3.8.3-final"
  },
  "toc": {
   "base_numbering": 1,
   "nav_menu": {},
   "number_sections": true,
   "sideBar": true,
   "skip_h1_title": false,
   "title_cell": "Table of Contents",
   "title_sidebar": "Contents",
   "toc_cell": false,
   "toc_position": {},
   "toc_section_display": true,
   "toc_window_display": false
  }
 },
 "nbformat": 4,
 "nbformat_minor": 2
}