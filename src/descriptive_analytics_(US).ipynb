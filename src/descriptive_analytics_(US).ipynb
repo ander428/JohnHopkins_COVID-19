{
 "cells": [
  {
   "cell_type": "code",
   "execution_count": 1,
   "metadata": {},
   "outputs": [],
   "source": [
    "import warnings\n",
    "warnings.filterwarnings('ignore')\n",
    "\n",
    "import pandas as pd\n",
    "import numpy as np\n",
    "from bokeh.plotting import figure, show, output_file\n",
    "from bokeh.models import ColumnDataSource, HoverTool, LinearColorMapper, Legend, LogColorMapper, GeoJSONDataSource\n",
    "from bokeh.models.widgets import Slider\n",
    "from bokeh.layouts import widgetbox, column\n",
    "from bokeh.plotting import figure, curdoc, save\n",
    "from bokeh.transform import factor_cmap\n",
    "from bokeh.palettes import RdYlBu, Category10, Viridis6 \n",
    "from IPython.core.display import HTML, display\n",
    "import matplotlib.pyplot as plt\n",
    "import seaborn as sn\n",
    "import geopandas as gpd\n",
    "\n",
    "pd.set_option(\"display.max_rows\", 8)\n",
    "pd.set_option(\"display.max_columns\", 20)"
   ]
  },
  {
   "cell_type": "markdown",
   "metadata": {},
   "source": [
    "# Descriptive Analytics"
   ]
  },
  {
   "cell_type": "markdown",
   "metadata": {},
   "source": [
    "## United States Summary"
   ]
  },
  {
   "cell_type": "code",
   "execution_count": 2,
   "metadata": {},
   "outputs": [],
   "source": [
    "# import data\n",
    "cases_US = pd.read_csv('../data/US_all_vars.csv').iloc[:,1:]\n",
    "cases_global = pd.read_csv('../data/Global_all_vars.csv').iloc[:,1:]\n",
    "\n",
    "cases_US['Date'] = pd.to_datetime(cases_US['Date'], cache=True)"
   ]
  },
  {
   "cell_type": "code",
   "execution_count": 3,
   "metadata": {},
   "outputs": [
    {
     "data": {
      "text/html": [
       "<p style='font-size: 15px'>U.S. Correlation Plot</p>"
      ],
      "text/plain": [
       "<IPython.core.display.HTML object>"
      ]
     },
     "metadata": {},
     "output_type": "display_data"
    }
   ],
   "source": [
    "corr_US = cases_US.drop('FIPS',axis=1).corr()\n",
    "# sn.heatmap(corr_US, annot=True)\n",
    "# sn.set(rc={'figure.figsize':(20,20)})\n",
    "\n",
    "display(HTML(\"<p style='font-size: 15px'>U.S. Correlation Plot</p>\"))"
   ]
  },
  {
   "cell_type": "markdown",
   "metadata": {},
   "source": [
    "![img](assets/img/Seaborn/Corr_Plot.png)"
   ]
  },
  {
   "cell_type": "markdown",
   "metadata": {},
   "source": [
    "***The figure above is a correlation plot of all numeric variables for U.S. cases. This was calculated using the correlation coefficient (pearson's). Some interesting correlations related to cases (and cases in 2 weeks) are protest count (.51/.54), population (.49/.51), and percent foreign born (.27,.28). It is interesting to point out that most variables had an increased correlation with cases 2 weeks later rather than cases at a given time.***"
   ]
  },
  {
   "cell_type": "code",
   "execution_count": 4,
   "metadata": {},
   "outputs": [],
   "source": [
    "def assign_color(row):\n",
    "    if row['Avg.Person.Per.Household'] < 2.3:\n",
    "        return '< 2.3' \n",
    "    elif row['Avg.Person.Per.Household'] >= 2.3 and row['Avg.Person.Per.Household'] <= 2.6:\n",
    "        return '>= 2.3 & <= 2.6'\n",
    "    elif row['Avg.Person.Per.Household'] > 2.6:\n",
    "        return '> 2.6'\n",
    "\n",
    "cases_US['Avg.Person.Per.Household.FCT'] = cases_US.apply(assign_color, axis=1)\n",
    "\n",
    "hover = HoverTool(tooltips=[\n",
    "    (\"County\", \"@County\"),\n",
    "    (\"State\", \"@State\"),\n",
    "    (\"Avg Person Per Household\", \"@{Avg.Person.Per.Household}\"),\n",
    "    (\"Population\", \"@{POP.2019}{0.00}\"),\n",
    "    (\"Total_Cases\", \"@Total_Cases\")\n",
    "    ])\n",
    "\n",
    "p = figure(title = \"Total Population vs Total Cases\", plot_height=500, plot_width=750,\n",
    "           tools=[hover, \"pan,reset,wheel_zoom\"])\n",
    "\n",
    "colors = factor_cmap('Avg.Person.Per.Household.FCT', palette=['#EC7063','#A569BD','#007BCC'],\n",
    "                     factors=cases_US['Avg.Person.Per.Household.FCT'].unique()) \n",
    "\n",
    "p.circle('POP.2019','Total_Cases', legend='Avg.Person.Per.Household.FCT',\n",
    "         fill_alpha=0.1, size=10, fill_color=colors, line_color=colors,\n",
    "         source=ColumnDataSource(cases_US[cases_US['Date'] == pd.Timestamp(\"2020-06-30\")]))\n",
    "p.xaxis.axis_label = 'Population 2019 (thousands)'\n",
    "p.yaxis.axis_label = 'Total COVID-19 Cases (06/30/2020)'\n",
    "p.legend.title = 'Avg Person Per Household'\n",
    "p.legend.location = \"top_left\"\n",
    "p.legend.orientation = \"horizontal\"\n",
    "\n",
    "output_file(\"../assets/img/Bokeh/Total_Pop_Plot.html\")\n",
    "\n",
    "cases_US = cases_US.drop(['Avg.Person.Per.Household.FCT'], axis=1)\n",
    "show(p)"
   ]
  },
  {
   "cell_type": "markdown",
   "metadata": {},
   "source": [
    "<iframe src=\"assets/img/Bokeh/Total_Pop_Plot.html\"\n",
    "    sandbox=\"allow-same-origin allow-scripts\"\n",
    "    width=\"100%\"\n",
    "    height=\"500\"\n",
    "    scrolling=\"no\"\n",
    "    seamless=\"seamless\"\n",
    "    frameborder=\"0\">\n",
    "</iframe>"
   ]
  },
  {
   "cell_type": "markdown",
   "metadata": {},
   "source": [
    "***The figure above shows the correlation between total covid cases as of June 30th compared to the 2019 population estimate for each county in the US divided by the average person per household. There is a slight positive trend. Something to point out is that the counties with a higher average person per household than the national average (~2.5-2.6) seem to describe most of the outliers.***\n",
    "\n",
    "***You may hover over points for more detailed information.***"
   ]
  },
  {
   "cell_type": "code",
   "execution_count": 5,
   "metadata": {},
   "outputs": [],
   "source": [
    "hover = HoverTool(tooltips=[\n",
    "    (\"County\", \"@County\"),\n",
    "    (\"State\", \"@State\"),\n",
    "    (\"Protest_Count\", \"@Protest_Count\"),\n",
    "    (\"Total Cases\", \"@Total_Cases\"),\n",
    "    (\"Governer.Party\", \"@{Governer.Party}\")\n",
    "    ])\n",
    "\n",
    "p = figure(title = \"Total Cases of COVID-19 (as of 6/30/20) vs BLM Protest Count by County\",\n",
    "           plot_height=500, plot_width=750, tools=[hover, \"pan,reset,wheel_zoom\"])\n",
    "\n",
    "colors = factor_cmap('Governer.Party', palette=['red', 'blue'], factors=cases_US['Governer.Party'].unique()) \n",
    "\n",
    "p.circle('Protest_Count','Total_Cases', legend='Governer.Party',\n",
    "         fill_alpha=0.1, size=10, fill_color=colors, line_color=colors,\n",
    "         source=ColumnDataSource(cases_US[cases_US['Date'] == pd.Timestamp(\"2020-06-30\")]))\n",
    "\n",
    "p.legend.title = 'Political Party of Governer'\n",
    "p.legend.location = \"top_left\"\n",
    "p.xaxis.axis_label = 'BLM Protest Count'\n",
    "p.yaxis.axis_label = 'Total COVID-19 Cases (06/30/2020)'\n",
    "\n",
    "output_file(\"../assets/img/Bokeh/BLM_Gov_Cases_Plot.html\")\n",
    "show(p)"
   ]
  },
  {
   "cell_type": "markdown",
   "metadata": {},
   "source": [
    "<iframe src=\"assets/img/Bokeh/BLM_Gov_Cases_Plot.html\"\n",
    "    sandbox=\"allow-same-origin allow-scripts\"\n",
    "    width=\"100%\"\n",
    "    height=\"500\"\n",
    "    scrolling=\"no\"\n",
    "    seamless=\"seamless\"\n",
    "    frameborder=\"0\">\n",
    "</iframe>"
   ]
  },
  {
   "cell_type": "markdown",
   "metadata": {},
   "source": [
    "***This figure shows the correlation between total cases and the protests divided by the political party of the governer of the state. This seems to again have a slight positive correlation that is smaller than the population correlation. It should also be noted that There is a similar amount of Republican and Democratic outliers.***\n",
    "\n",
    "***You may hover over points for more detailed information.***"
   ]
  },
  {
   "cell_type": "code",
   "execution_count": 6,
   "metadata": {},
   "outputs": [],
   "source": [
    "def assign_density(row):\n",
    "    if row['PopDensity'] < 500:\n",
    "        return '< 500' \n",
    "    elif row['PopDensity'] >= 500 and row['PopDensity'] <= 1000:\n",
    "        return '>= 500 & <= 1000'\n",
    "    elif row['PopDensity'] > 1000:\n",
    "        return '> 1000'\n",
    "\n",
    "cases_US['PopDensity.FCT'] = cases_US.apply(assign_density, axis=1)\n",
    "\n",
    "cases_US_bar = cases_US.groupby(['County', 'State']).agg({\n",
    "    'Total_Cases': np.max, \n",
    "    'PopDensity.FCT': pd.Series.mode,\n",
    "    'PopDensity': np.mean\n",
    "}).reset_index()\n",
    "\n",
    "cases_US_bar['Location'] = cases_US_bar[['County', 'State']].apply(lambda x: ', '.join(x), axis=1)\n",
    "\n",
    "cases_US_bar = cases_US_bar.sort_values(by=['Total_Cases'], ascending=False)\n",
    "cases_US_bar = cases_US_bar[:20]\n",
    "\n",
    "Location = cases_US_bar['Location'].unique()\n",
    "Density = cases_US_bar['PopDensity.FCT'].unique()\n",
    "Density[0], Density[1] = Density[1], Density[0] # reorder factors to be descending\n",
    "\n",
    "hover = HoverTool(tooltips=[\n",
    "    (\"County/State\", \"@Location\"),\n",
    "    (\"Density\", \"@PopDensity{0.00}\"),\n",
    "    (\"Total Cases\", \"@Total_Cases\")\n",
    "    ])\n",
    "\n",
    "pal = RdYlBu[10]\n",
    "source = ColumnDataSource(data=dict(Location=cases_US_bar['Location'],\n",
    "                                    PopDensityFCT=cases_US_bar['PopDensity.FCT'],\n",
    "                                    PopDensity=cases_US_bar['PopDensity'],\n",
    "                                    Total_Cases=cases_US_bar['Total_Cases']/1000))\n",
    "\n",
    "p = figure(x_range=Location, y_range=(0,max(cases_US_bar['Total_Cases']/1000)+25), \n",
    "           plot_height=500, title=\"Total COVID-19 Cases by Top 20 Counties as of 6/30/20\", \n",
    "           toolbar_location=None, tools=[hover])\n",
    "\n",
    "p.vbar(x='Location', top='Total_Cases', width=0.9, legend=\"PopDensityFCT\",source=source,\n",
    "       fill_color=factor_cmap('PopDensityFCT', palette=pal, factors=Density))\n",
    "\n",
    "p.xgrid.grid_line_color = None\n",
    "p.xaxis.major_label_orientation = \"vertical\"\n",
    "\n",
    "p.legend.title = 'People per square km'\n",
    "p.xaxis.axis_label = 'U.S. County'\n",
    "p.yaxis.axis_label = 'Total COVID-19 Cases (Thousands)'\n",
    "\n",
    "output_file(\"../assets/img/Bokeh/County_Density_Plot.html\")\n",
    "show(p)"
   ]
  },
  {
   "cell_type": "markdown",
   "metadata": {},
   "source": [
    "<iframe src=\"assets/img/Bokeh/County_Density_Plot.html\"\n",
    "    sandbox=\"allow-same-origin allow-scripts\"\n",
    "    width=\"100%\"\n",
    "    height=\"500\"\n",
    "    scrolling=\"no\"\n",
    "    seamless=\"seamless\"\n",
    "    frameborder=\"0\">\n",
    "</iframe>"
   ]
  },
  {
   "cell_type": "markdown",
   "metadata": {},
   "source": [
    "***The figure above shows the 20 counties with the most cases in the US as of June 30th. It should be noted that the top 2 counties are significatly higher in cases (by at least 40k) than the rest.***\n",
    "\n",
    "***You may hover over the bars for more detailed information.***"
   ]
  },
  {
   "cell_type": "code",
   "execution_count": 7,
   "metadata": {},
   "outputs": [],
   "source": [
    "plot_name = \"Lockdown_Rating_Plot\"\n",
    "\n",
    "cases_US_bar = cases_US[cases_US['Date'] == pd.Timestamp('2020-06-30')]\n",
    "cases_US_bar = cases_US_bar.groupby(['County','State']).agg({\n",
    "    'Total_Cases': np.max,\n",
    "    'POP.2019': np.mean,\n",
    "    'Restriction Rating': pd.Series.mode\n",
    "}).reset_index().groupby(['State']).agg({\n",
    "    'Total_Cases': np.sum,\n",
    "    'POP.2019': np.sum,\n",
    "    'Restriction Rating': pd.Series.mode\n",
    "}).reset_index()\n",
    "\n",
    "cases_US_bar['Total_Cases'] = cases_US_bar['Total_Cases'] / 1000\n",
    "cases_US_bar['POP.2019'] = cases_US_bar['POP.2019'] / 1000\n",
    "cases_US_bar = cases_US_bar.sort_values(by=['Total_Cases'], ascending=False)\n",
    "cases_US_bar = cases_US_bar[:20]\n",
    "\n",
    "State = cases_US_bar['State'].unique()\n",
    "Ratings = cases_US_bar['Restriction Rating'].unique()\n",
    "\n",
    "hover = HoverTool(tooltips=[\n",
    "    (\"State\", \"@State\"),\n",
    "    (\"Restriction Rating\", \"@{Restrictions}\"),\n",
    "    (\"Population (mil)\", \"@Population{0.000}\"),\n",
    "    (\"Total Cases (thous)\", \"@Total_Cases\")\n",
    "    ])\n",
    "\n",
    "pal = RdYlBu[5]\n",
    "source = ColumnDataSource(data=dict(State=cases_US_bar['State'],\n",
    "                                    Restrictions=cases_US_bar['Restriction Rating'],\n",
    "                                    Population=cases_US_bar['POP.2019'],\n",
    "                                    Total_Cases=cases_US_bar['Total_Cases']))\n",
    "\n",
    "p = figure(x_range=State, y_range=(0,max(cases_US_bar['Total_Cases'])+25), \n",
    "           plot_height=450, title=\"Total COVID-19 Cases by Top 20 States as of 6/30/20\", \n",
    "           toolbar_location=None, tools=[hover])\n",
    "\n",
    "p.vbar(x='State', top='Total_Cases', width=0.9, legend=\"Restrictions\",\n",
    "       fill_color=factor_cmap('Restrictions', palette=pal, factors=Ratings), source=source)\n",
    "\n",
    "p.xgrid.grid_line_color = None\n",
    "p.xaxis.major_label_orientation = \"vertical\"\n",
    "\n",
    "p.legend.title = 'State Lockdown Restrictions'\n",
    "p.xaxis.axis_label = 'U.S. County'\n",
    "p.yaxis.axis_label = 'Total COVID-19 Cases (Thousands)'\n",
    "\n",
    "output_file(\"../assets/img/Bokeh/Lockdown_Rating_Plot.html\")\n",
    "show(p)"
   ]
  },
  {
   "cell_type": "markdown",
   "metadata": {},
   "source": [
    "<iframe src=\"assets/img/Bokeh/Lockdown_Rating_Plot.html\"\n",
    "    sandbox=\"allow-same-origin allow-scripts\"\n",
    "    width=\"100%\"\n",
    "    height=\"500\"\n",
    "    scrolling=\"no\"\n",
    "    seamless=\"seamless\"\n",
    "    frameborder=\"0\">\n",
    "</iframe>"
   ]
  },
  {
   "cell_type": "markdown",
   "metadata": {},
   "source": [
    "***This figure shows the 20 states with the most cases divided by their restriction ratings. This graph shows there is actually some diversity in the extent to which the lockdown was restrictive. This is likely due to other factors influencing cases especially in larger states.***\n",
    "\n",
    "***You may hover over the bars for more detailed information.***"
   ]
  },
  {
   "cell_type": "code",
   "execution_count": 8,
   "metadata": {},
   "outputs": [],
   "source": [
    "time_series_chart = cases_US.groupby(['State', 'Date']).agg({\n",
    "    'Cases_Delta': np.sum,\n",
    "    'Phase.0': pd.Series.mode,\n",
    "    'Phase.1': pd.Series.mode,\n",
    "    'Phase.2': pd.Series.mode,\n",
    "    'Phase.3': pd.Series.mode\n",
    "}).reset_index()\n",
    "\n",
    "States = cases_US.groupby('State').sum().reset_index().sort_values('Cases_Delta')\n",
    "time_series_chart = time_series_chart[time_series_chart['State'].isin(States.iloc[-5:, 0])]\n",
    "\n",
    "counties_pop = cases_US.groupby(['County', 'State']).agg({'POP.2019': np.mean}).reset_index()\n",
    "states_pop = counties_pop.groupby(['State']).agg({'POP.2019': np.sum}).reset_index()\n",
    "\n",
    "p = figure(plot_width=800, plot_height=500, x_axis_type=\"datetime\",\n",
    "          title=\"Daily COVID-19 Cases by 5 most infected States\")\n",
    "\n",
    "color_idx = 0\n",
    "for State, df in cases_US.groupby(['State']):\n",
    "    date = time_series_chart.loc[time_series_chart['State'] == State, 'Date']\n",
    "    if date.empty:\n",
    "        continue\n",
    "    else:\n",
    "        y = time_series_chart.loc[time_series_chart['State'] == State, 'Cases_Delta'].iloc[:-1]\n",
    "        date = date.iloc[:-1]\n",
    "        line = p.line(date, y, line_width=2, color=Category10[10][color_idx], alpha=0.8, legend=State)\n",
    "        hover = HoverTool(tooltips=[\n",
    "            ('Date', '@x{%F}'),\n",
    "            ('State', State),\n",
    "            ('New Cases', '@y'),\n",
    "            ('Phase 0:', time_series_chart.loc[time_series_chart['State'] == State, \n",
    "                                               'Phase.0'].unique()[0]),\n",
    "            ('Phase 1:', time_series_chart.loc[time_series_chart['State'] == State, \n",
    "                                               'Phase.1'].unique()[0]),\n",
    "            ('Phase 2:', time_series_chart.loc[time_series_chart['State'] == State, \n",
    "                                               'Phase.2'].unique()[0]),\n",
    "            ('Phase 3:', time_series_chart.loc[time_series_chart['State'] == State, \n",
    "                                               'Phase.3'].unique()[0])\n",
    "\n",
    "        ], \n",
    "        renderers=[line], formatters={'x': 'datetime'})\n",
    "        p.add_tools(hover)\n",
    "        color_idx += 1\n",
    "    \n",
    "p.legend.location = \"top_left\"\n",
    "p.legend.click_policy=\"hide\"\n",
    "p.xaxis.axis_label = 'Date (1/22/20 - 6/29/20)'\n",
    "p.yaxis.axis_label = 'Daily COVID-19 cases by State'\n",
    "\n",
    "output_file(\"../assets/img/Bokeh/Time_Series_US.html\")\n",
    "\n",
    "show(p)"
   ]
  },
  {
   "cell_type": "markdown",
   "metadata": {},
   "source": [
    "<iframe src=\"assets/img/Bokeh/Time_Series_US.html\"\n",
    "    sandbox=\"allow-same-origin allow-scripts\"\n",
    "    width=\"100%\"\n",
    "    height=\"500\"\n",
    "    scrolling=\"no\"\n",
    "    seamless=\"seamless\"\n",
    "    frameborder=\"0\">\n",
    "</iframe>"
   ]
  },
  {
   "cell_type": "markdown",
   "metadata": {},
   "source": [
    "***This chart shows the progression of daily cases of the 5 states with the most total cases. Take notice that the y-axis does not represent the number of total cases but the number of new cases. It should be noted that around mid-May is the time California and Florida start a strong postitive trend. Many people may attribute this to moving to phase 2 too early although it is interesting that New York moved to phase 2 around the same timline with more active cases, yet sees a decline while Florida sees an increase. This means phase is likely not the only main factor in predicting cases.***\n",
    "***You may hover over a line for more detail or click on the legend to filter states.***"
   ]
  },
  {
   "cell_type": "code",
   "execution_count": 9,
   "metadata": {},
   "outputs": [],
   "source": [
    "temp = cases_US[(cases_US['Date'] == pd.Timestamp('2020-06-30')) &\n",
    "                (cases_US['State'] == 'Texas')]\n",
    "\n",
    "palette = tuple(reversed(Viridis6))\n",
    "color_mapper = LogColorMapper(palette=palette)\n",
    "\n",
    "\n",
    "source = ColumnDataSource(data=dict(\n",
    "    x=temp['Long'],\n",
    "    y=temp['Lat'],\n",
    "    name=temp['County'],\n",
    "    cases=temp['Total_Cases'],\n",
    "))\n",
    "\n",
    "TOOLS = \"pan,wheel_zoom,reset,hover,save\"\n",
    "\n",
    "p = figure(\n",
    "    title=\"California Cases, 6/30/20\", tools=TOOLS,\n",
    "    x_axis_location=None, y_axis_location=None,\n",
    "    tooltips=[\n",
    "        (\"Name\", \"@name\"), (\"Cases\", \"@cases\"), (\"(Long, Lat)\", \"($x, $y)\")\n",
    "    ])\n",
    "p.grid.grid_line_color = None\n",
    "p.hover.point_policy = \"follow_mouse\"\n",
    "\n",
    "p.patches('x', 'y', source=source,\n",
    "          fill_color={'field': 'cases', 'transform': color_mapper},\n",
    "          fill_alpha=0.7, line_color=\"black\", line_width=0.5)\n",
    "\n",
    "output_file(\"../assets/img/Bokeh/TX.html\")\n",
    "\n",
    "show(p)"
   ]
  },
  {
   "cell_type": "code",
   "execution_count": null,
   "metadata": {},
   "outputs": [],
   "source": []
  },
  {
   "cell_type": "code",
   "execution_count": 38,
   "metadata": {},
   "outputs": [],
   "source": [
    "# counties = gpd.read_file(r\"../data/location/US/cb_2018_us_county_500k.shp\")\n",
    "# counties = counties[counties['NAME'].isin(cases_US['County'])]\n",
    "# counties = counties[counties['STATEFP'].astype(int) <= 56]\n",
    "# CRS = counties.crs\n",
    "\n",
    "# # Convert GeoDataFrames into GeoJSONDataSource objects (similar to ColumnDataSource)\n",
    "# roads_source = GeoJSONDataSource(geojson=counties.to_json())\n",
    "\n",
    "# # Initialize our plot figure\n",
    "# p = figure(title=\"A test map\", width=500)\n",
    "\n",
    "# # Add the lines to the map from our GeoJSONDataSource -object (it is important to specify the columns as 'xs' and 'ys')\n",
    "# p.multi_line('xs', 'ys', source=roads_source, color='gray', line_width=1)\n",
    "\n",
    "# output_file(\"../assets/img/Bokeh/TX.html\")\n",
    "\n",
    "# show(p)"
   ]
  },
  {
   "cell_type": "code",
   "execution_count": 39,
   "metadata": {},
   "outputs": [],
   "source": [
    "# sorted(counties.STATEFP.astype(int).unique())\n"
   ]
  }
 ],
 "metadata": {
  "hide_input": false,
  "kernelspec": {
   "display_name": "cudagpu",
   "language": "python",
   "name": "cudagpu"
  },
  "language_info": {
   "codemirror_mode": {
    "name": "ipython",
    "version": 3
   },
   "file_extension": ".py",
   "mimetype": "text/x-python",
   "name": "python",
   "nbconvert_exporter": "python",
   "pygments_lexer": "ipython3",
   "version": "3.7.3"
  },
  "toc": {
   "base_numbering": 1,
   "nav_menu": {},
   "number_sections": true,
   "sideBar": true,
   "skip_h1_title": false,
   "title_cell": "Table of Contents",
   "title_sidebar": "Contents",
   "toc_cell": false,
   "toc_position": {},
   "toc_section_display": true,
   "toc_window_display": false
  }
 },
 "nbformat": 4,
 "nbformat_minor": 2
}
