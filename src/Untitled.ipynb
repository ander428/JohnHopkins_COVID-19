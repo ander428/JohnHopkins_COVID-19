{
 "cells": [
  {
   "cell_type": "code",
   "execution_count": 1,
   "metadata": {},
   "outputs": [],
   "source": [
    "import pandas as pd\n",
    "from bokeh.sampledata.iris import flowers\n",
    "\n",
    "from bokeh.plotting import figure, show, output_file\n",
    "from bokeh.models import ColumnDataSource, HoverTool\n",
    "\n",
    "colormap = {'setosa': 'red', 'versicolor': 'green', 'virginica': 'blue'}\n",
    "flowers['colors'] = [colormap[x] for x in flowers['species']]\n",
    "\n",
    "hover = HoverTool(tooltips=[\n",
    "    (\"Sepal length\", \"@sepal_length\"),\n",
    "    (\"Sepal width\", \"@sepal_width\"),\n",
    "    (\"Petal length\", \"@petal_length\"),\n",
    "    (\"Species\", \"@species\")\n",
    "    ])\n",
    "\n",
    "p = figure(title = \"Iris Morphology\", plot_height=500, plot_width=500, tools=[hover, \"pan,reset,wheel_zoom\"])\n",
    "\n",
    "p.xaxis.axis_label = 'Petal Length'\n",
    "p.yaxis.axis_label = 'Petal Width'\n",
    "\n",
    "p.circle('petal_length', 'petal_width', color='colors', \n",
    "         fill_alpha=0.2, size=10, source=ColumnDataSource(flowers))\n",
    "\n",
    "output_file('../assets/img/Bokeh/flowers.html')\n",
    "\n",
    "show(p)"
   ]
  },
  {
   "cell_type": "markdown",
   "metadata": {},
   "source": [
    "<iframe src=\"/assets/img/Bokeh/flowers.html\"\n",
    "    sandbox=\"allow-same-origin allow-scripts\"\n",
    "    width=\"100%\"\n",
    "    height=\"500\"\n",
    "    scrolling=\"no\"\n",
    "    seamless=\"seamless\"\n",
    "    frameborder=\"0\">\n",
    "</iframe>"
   ]
  }
 ],
 "metadata": {
  "hide_input": false,
  "kernelspec": {
   "display_name": "cudagpu",
   "language": "python",
   "name": "cudagpu"
  },
  "language_info": {
   "codemirror_mode": {
    "name": "ipython",
    "version": 3
   },
   "file_extension": ".py",
   "mimetype": "text/x-python",
   "name": "python",
   "nbconvert_exporter": "python",
   "pygments_lexer": "ipython3",
   "version": "3.7.3"
  },
  "toc": {
   "base_numbering": 1,
   "nav_menu": {},
   "number_sections": true,
   "sideBar": true,
   "skip_h1_title": false,
   "title_cell": "Table of Contents",
   "title_sidebar": "Contents",
   "toc_cell": false,
   "toc_position": {},
   "toc_section_display": true,
   "toc_window_display": false
  }
 },
 "nbformat": 4,
 "nbformat_minor": 2
}
