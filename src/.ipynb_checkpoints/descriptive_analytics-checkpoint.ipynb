{
 "cells": [
  {
   "cell_type": "code",
   "execution_count": 1,
   "metadata": {},
   "outputs": [],
   "source": [
    "import warnings\n",
    "warnings.filterwarnings('ignore')\n",
    "\n",
    "import pandas as pd\n",
    "import numpy as np\n",
    "from bokeh.plotting import figure, show, output_file\n",
    "from bokeh.models import ColumnDataSource, HoverTool, LinearColorMapper, Legend\n",
    "from bokeh.models.widgets import Slider\n",
    "from bokeh.layouts import widgetbox, column\n",
    "from bokeh.plotting import figure, curdoc\n",
    "from bokeh.transform import factor_cmap\n",
    "from bokeh.palettes import RdYlBu, Category10\n",
    "from IPython.core.display import HTML, display\n",
    "import matplotlib.pyplot as plt\n",
    "import seaborn as sn\n",
    "\n",
    "pd.set_option(\"display.max_rows\", 8)\n",
    "pd.set_option(\"display.max_columns\", 20)"
   ]
  },
  {
   "cell_type": "markdown",
   "metadata": {},
   "source": [
    "# Descriptive Analytics"
   ]
  },
  {
   "cell_type": "markdown",
   "metadata": {},
   "source": [
    "## United States Summary"
   ]
  },
  {
   "cell_type": "code",
   "execution_count": 2,
   "metadata": {},
   "outputs": [],
   "source": [
    "# import data\n",
    "cases_US = pd.read_csv('../data/US_all_vars.csv').iloc[:,1:]\n",
    "cases_global = pd.read_csv('../data/Global_all_vars.csv').iloc[:,1:]\n",
    "\n",
    "cases_US['Date'] = pd.to_datetime(cases_US['Date'], cache=True)"
   ]
  },
  {
   "cell_type": "code",
   "execution_count": null,
   "metadata": {},
   "outputs": [],
   "source": []
  },
  {
   "cell_type": "code",
   "execution_count": null,
   "metadata": {},
   "outputs": [],
   "source": []
  },
  {
   "cell_type": "code",
   "execution_count": 3,
   "metadata": {},
   "outputs": [
    {
     "data": {
      "text/html": [
       "<p style='font-size: 15px'>U.S. Correlation Plot</p>"
      ],
      "text/plain": [
       "<IPython.core.display.HTML object>"
      ]
     },
     "metadata": {},
     "output_type": "display_data"
    }
   ],
   "source": [
    "corr_US = cases_US.drop('FIPS',axis=1).corr()\n",
    "# sn.heatmap(corr_US, annot=True)\n",
    "# sn.set(rc={'figure.figsize':(20,20)})\n",
    "\n",
    "display(HTML(\"<p style='font-size: 15px'>U.S. Correlation Plot</p>\"))"
   ]
  },
  {
   "cell_type": "markdown",
   "metadata": {},
   "source": [
    "![img](assets/img/Seaborn/Corr_Plot.png)"
   ]
  },
  {
   "cell_type": "code",
   "execution_count": null,
   "metadata": {},
   "outputs": [],
   "source": []
  },
  {
   "cell_type": "code",
   "execution_count": 4,
   "metadata": {},
   "outputs": [],
   "source": [
    "def assign_color(row):\n",
    "    if row['Avg.Person.Per.Household'] < 2.3:\n",
    "        return '< 2.3' \n",
    "    elif row['Avg.Person.Per.Household'] >= 2.3 and row['Avg.Person.Per.Household'] <= 2.6:\n",
    "        return '>= 2.3 & <= 2.6'\n",
    "    elif row['Avg.Person.Per.Household'] > 2.6:\n",
    "        return '> 2.6'\n",
    "\n",
    "cases_US['Avg.Person.Per.Household.FCT'] = cases_US.apply(assign_color, axis=1)\n",
    "\n",
    "hover = HoverTool(tooltips=[\n",
    "    (\"County\", \"@County\"),\n",
    "    (\"State\", \"@State\"),\n",
    "    (\"Avg Person Per Household\", \"@{Avg.Person.Per.Household.FCT}\"),\n",
    "    (\"Population\", \"@{POP.2019}\"),\n",
    "    (\"Total_Cases\", \"@Total_Cases\")\n",
    "    ])\n",
    "\n",
    "p = figure(title = \"Total Population vs Total Cases\", plot_height=500, plot_width=750,\n",
    "           tools=[hover, \"pan,reset,wheel_zoom\"])\n",
    "\n",
    "colors = factor_cmap('Avg.Person.Per.Household.FCT', palette=['#EC7063','#A569BD','#007BCC'],\n",
    "                     factors=cases_US['Avg.Person.Per.Household.FCT'].unique()) \n",
    "\n",
    "p.circle('POP.2019','Total_Cases', legend='Avg.Person.Per.Household.FCT',\n",
    "         fill_alpha=0.1, size=10, fill_color=colors, line_color=colors,\n",
    "         source=ColumnDataSource(cases_US[cases_US['Date'] == pd.Timestamp(\"2020-06-30\")]))\n",
    "p.xaxis.axis_label = 'Population 2019 (thousands)'\n",
    "p.yaxis.axis_label = 'Total COVID-19 Cases (06/30/2020)'\n",
    "p.legend.title = 'Avg Person Per Household'\n",
    "p.legend.location = \"top_left\"\n",
    "p.legend.orientation = \"horizontal\"\n",
    "\n",
    "output_file(\"../assets/img/Bokeh/Total_Pop_Plot.html\")\n",
    "\n",
    "cases_US = cases_US.drop(['Avg.Person.Per.Household.FCT'], axis=1)\n",
    "show(p)"
   ]
  },
  {
   "cell_type": "markdown",
   "metadata": {},
   "source": [
    "<iframe src=\"assets/img/Bokeh/Total_Pop_Plot.html\"\n",
    "    sandbox=\"allow-same-origin allow-scripts\"\n",
    "    width=\"100%\"\n",
    "    height=\"500\"\n",
    "    scrolling=\"no\"\n",
    "    seamless=\"seamless\"\n",
    "    frameborder=\"0\">\n",
    "</iframe>"
   ]
  },
  {
   "cell_type": "code",
   "execution_count": 5,
   "metadata": {},
   "outputs": [
    {
     "ename": "SyntaxError",
     "evalue": "invalid syntax (<ipython-input-5-e10d84803158>, line 14)",
     "output_type": "error",
     "traceback": [
      "\u001b[1;36m  File \u001b[1;32m\"<ipython-input-5-e10d84803158>\"\u001b[1;36m, line \u001b[1;32m14\u001b[0m\n\u001b[1;33m    p.circle('Protest_Count','Total_Cases', legen d='Governer.Party',\u001b[0m\n\u001b[1;37m                                                  ^\u001b[0m\n\u001b[1;31mSyntaxError\u001b[0m\u001b[1;31m:\u001b[0m invalid syntax\n"
     ]
    }
   ],
   "source": [
    "hover = HoverTool(tooltips=[\n",
    "    (\"County\", \"@County\"),\n",
    "    (\"State\", \"@State\"),\n",
    "    (\"Protest_Count\", \"@Protest_Count\"),\n",
    "    (\"Total_Cases\", \"@Total_Cases\"),\n",
    "    (\"Governer.Party\", \"@{Governer.Party}\")\n",
    "    ])\n",
    "\n",
    "p = figure(title = \"Total Cases of COVID-19 (as of 6/30/20) vs BLM Protest Count by County\",\n",
    "           plot_height=500, plot_width=750, tools=[hover, \"pan,reset,wheel_zoom\"])\n",
    "\n",
    "colors = factor_cmap('Governer.Party', palette=['red', 'blue'], factors=cases_US['Governer.Party'].unique()) \n",
    "\n",
    "p.circle('Protest_Count','Total_Cases', legend='Governer.Party',\n",
    "         fill_alpha=0.1, size=10, fill_color=colors, line_color=colors,\n",
    "         source=ColumnDataSource(cases_US[cases_US['Date'] == pd.Timestamp(\"2020-06-30\")]))\n",
    "\n",
    "p.legend.title = 'Political Party of Governer'\n",
    "p.xaxis.axis_label = 'BLM Protest Count'\n",
    "p.yaxis.axis_label = 'Total COVID-19 Cases (06/30/2020)'\n",
    "\n",
    "output_file(\"../assets/img/Bokeh/BLM_Gov_Cases_Plot.html\")\n",
    "show(p)"
   ]
  },
  {
   "cell_type": "markdown",
   "metadata": {},
   "source": [
    "<iframe src=\"assets/img/Bokeh/BLM_Gov_Cases_Plot.html\"\n",
    "    sandbox=\"allow-same-origin allow-scripts\"\n",
    "    width=\"100%\"\n",
    "    height=\"500\"\n",
    "    scrolling=\"no\"\n",
    "    seamless=\"seamless\"\n",
    "    frameborder=\"0\">\n",
    "</iframe>"
   ]
  },
  {
   "cell_type": "code",
   "execution_count": null,
   "metadata": {},
   "outputs": [],
   "source": []
  },
  {
   "cell_type": "code",
   "execution_count": null,
   "metadata": {},
   "outputs": [],
   "source": [
    "def assign_density(row):\n",
    "    if row['PopDensity'] < 500:\n",
    "        return '< 500' \n",
    "    elif row['PopDensity'] >= 500 and row['PopDensity'] <= 1000:\n",
    "        return '>= 500 & <= 1000'\n",
    "    elif row['PopDensity'] > 1000:\n",
    "        return '> 1000'\n",
    "\n",
    "cases_US['PopDensity.FCT'] = cases_US.apply(assign_density, axis=1)\n",
    "\n",
    "cases_US_bar = cases_US.groupby(['County', 'State']).agg({\n",
    "    'Total_Cases': np.max, \n",
    "    'PopDensity.FCT': pd.Series.mode\n",
    "}).reset_index()\n",
    "\n",
    "cases_US_bar['Location'] = cases_US_bar[['County', 'State']].apply(lambda x: ', '.join(x), axis=1)\n",
    "\n",
    "cases_US_bar = cases_US_bar.sort_values(by=['Total_Cases'], ascending=False)\n",
    "cases_US_bar = cases_US_bar[:20]\n",
    "\n",
    "Location = cases_US_bar['Location'].unique()\n",
    "Density = cases_US_bar['PopDensity.FCT'].unique()\n",
    "Density[0], Density[1] = Density[1], Density[0] # reorder factors to be descending\n",
    "\n",
    "hover = HoverTool(tooltips=[\n",
    "    (\"County/State\", \"@Location\"),\n",
    "    (\"PopDensity\", \"@{PopDensity}\"),\n",
    "    (\"Total_Cases\", \"@Total_Cases\")\n",
    "    ])\n",
    "\n",
    "pal = RdYlBu[10]\n",
    "source = ColumnDataSource(data=dict(Location=cases_US_bar['Location'],\n",
    "                                    PopDensity=cases_US_bar['PopDensity.FCT'],\n",
    "                                    Total_Cases=cases_US_bar['Total_Cases']/1000))\n",
    "\n",
    "p = figure(x_range=Location, y_range=(0,max(cases_US_bar['Total_Cases']/1000)+25), \n",
    "           plot_height=500, title=\"Total COVID-19 Cases by Top 20 Counties as of 6/30/20\", \n",
    "           toolbar_location=None, tools=[hover])\n",
    "\n",
    "p.vbar(x='Location', top='Total_Cases', width=0.9, legend=\"PopDensity\",source=source,\n",
    "       fill_color=factor_cmap('PopDensity', palette=pal, factors=Density))\n",
    "\n",
    "p.xgrid.grid_line_color = None\n",
    "p.xaxis.major_label_orientation = \"vertical\"\n",
    "\n",
    "p.legend.title = 'People per square km'\n",
    "p.xaxis.axis_label = 'U.S. County'\n",
    "p.yaxis.axis_label = 'Total COVID-19 Cases (Thousands)'\n",
    "\n",
    "output_file(\"../assets/img/Bokeh/County_Density_Plot.html\")\n",
    "show(p)"
   ]
  },
  {
   "cell_type": "markdown",
   "metadata": {},
   "source": [
    "<iframe src=\"assets/img/Bokeh/County_Density_Plot.html\"\n",
    "    sandbox=\"allow-same-origin allow-scripts\"\n",
    "    width=\"100%\"\n",
    "    height=\"500\"\n",
    "    scrolling=\"no\"\n",
    "    seamless=\"seamless\"\n",
    "    frameborder=\"0\">\n",
    "</iframe>"
   ]
  },
  {
   "cell_type": "code",
   "execution_count": null,
   "metadata": {},
   "outputs": [],
   "source": [
    "plot_name = \"Lockdown_Rating_Plot\"\n",
    "\n",
    "cases_US_bar = cases_US[cases_US['Date'] == pd.Timestamp('2020-06-30')]\n",
    "cases_US_bar = cases_US_bar.groupby('State').agg({\n",
    "    'Total_Cases': np.sum,\n",
    "    'Restriction Rating': pd.Series.mode\n",
    "}).reset_index()\n",
    "cases_US_bar = cases_US_bar.sort_values(by=['Total_Cases'], ascending=False)\n",
    "cases_US_bar = cases_US_bar[:20]\n",
    "\n",
    "State = cases_US_bar['State'].unique()\n",
    "Ratings = cases_US_bar['Restriction Rating'].unique()\n",
    "\n",
    "hover = HoverTool(tooltips=[\n",
    "    (\"State\", \"@State\"),\n",
    "    (\"Restriction Rating\", \"@{Restrictions}\"),\n",
    "    (\"Total_Cases\", \"@Total_Cases\")\n",
    "    ])\n",
    "\n",
    "pal = RdYlBu[5]\n",
    "source = ColumnDataSource(data=dict(State=cases_US_bar['State'],\n",
    "                                    Restrictions=cases_US_bar['Restriction Rating'],\n",
    "                                    Total_Cases=cases_US_bar['Total_Cases']/1000))\n",
    "\n",
    "p = figure(x_range=State, y_range=(0,max(cases_US_bar['Total_Cases']/1000)+25), \n",
    "           plot_height=450, title=\"Total COVID-19 Cases by Top 20 States as of 6/30/20\", \n",
    "           toolbar_location=None, tools=[hover])\n",
    "\n",
    "p.vbar(x='State', top='Total_Cases', width=0.9, legend=\"Restrictions\",\n",
    "       fill_color=factor_cmap('Restrictions', palette=pal, factors=Ratings), source=source)\n",
    "\n",
    "p.xgrid.grid_line_color = None\n",
    "p.xaxis.major_label_orientation = \"vertical\"\n",
    "\n",
    "p.legend.title = 'State Lockdown Restrictions'\n",
    "p.xaxis.axis_label = 'U.S. County'\n",
    "p.yaxis.axis_label = 'Total COVID-19 Cases (Thousands)'\n",
    "\n",
    "output_file(\"../assets/img/Bokeh/Lockdown_Rating_Plot.html\")\n",
    "show(p)"
   ]
  },
  {
   "cell_type": "markdown",
   "metadata": {},
   "source": [
    "<iframe src=\"assets/img/Bokeh/Lockdown_Rating_Plot.html\"\n",
    "    sandbox=\"allow-same-origin allow-scripts\"\n",
    "    width=\"100%\"\n",
    "    height=\"500\"\n",
    "    scrolling=\"no\"\n",
    "    seamless=\"seamless\"\n",
    "    frameborder=\"0\">\n",
    "</iframe>"
   ]
  },
  {
   "cell_type": "code",
   "execution_count": null,
   "metadata": {},
   "outputs": [],
   "source": [
    "time_series_chart = (cases_US.groupby(['State', 'Date'])\n",
    "                     .agg({'Cases_Delta': np.sum})\n",
    "                     .reset_index())\n",
    "\n",
    "States = cases_US.groupby('State').sum().reset_index().sort_values('Cases_Delta')\n",
    "time_series_chart = time_series_chart[time_series_chart['State'].isin(States.iloc[-5:, 0])]\n",
    "\n",
    "p = figure(plot_width=800, plot_height=500, x_axis_type=\"datetime\")\n",
    "\n",
    "color_idx = 0\n",
    "for State, df in cases_US.groupby(['State']):\n",
    "    date = time_series_chart.loc[time_series_chart['State'] == State, 'Date']\n",
    "    if date.empty:\n",
    "        continue\n",
    "    else:\n",
    "        y = time_series_chart.loc[time_series_chart['State'] == State, 'Cases_Delta'].iloc[:-1]\n",
    "        date = date.iloc[:-1]\n",
    "        line = p.line(date, y, line_width=2, color=Category10[10][color_idx], \n",
    "               muted_alpha=0.05, alpha=0.8, legend=State)\n",
    "        hover = HoverTool(tooltips=[('Date', '@x{%F}'),('New Cases', '@y'), ('State', State)], \n",
    "                          renderers=[line], formatters={'x': 'datetime'})\n",
    "        p.add_tools(hover)\n",
    "        color_idx += 1\n",
    "    \n",
    "p.legend.location = \"top_left\"\n",
    "p.legend.click_policy=\"mute\"\n",
    "\n",
    "output_file(\"../assets/img/Bokeh/Time_Series_US.html\")\n",
    "\n",
    "show(p)"
   ]
  },
  {
   "cell_type": "markdown",
   "metadata": {},
   "source": [
    "<iframe src=\"assets/img/Bokeh/Time_Series_US.html\"\n",
    "    sandbox=\"allow-same-origin allow-scripts\"\n",
    "    width=\"100%\"\n",
    "    height=\"500\"\n",
    "    scrolling=\"no\"\n",
    "    seamless=\"seamless\"\n",
    "    frameborder=\"0\">\n",
    "</iframe>"
   ]
  }
 ],
 "metadata": {
  "hide_input": false,
  "kernelspec": {
   "display_name": "cudagpu",
   "language": "python",
   "name": "cudagpu"
  },
  "language_info": {
   "codemirror_mode": {
    "name": "ipython",
    "version": 3
   },
   "file_extension": ".py",
   "mimetype": "text/x-python",
   "name": "python",
   "nbconvert_exporter": "python",
   "pygments_lexer": "ipython3",
   "version": "3.7.3"
  },
  "toc": {
   "base_numbering": 1,
   "nav_menu": {},
   "number_sections": true,
   "sideBar": true,
   "skip_h1_title": false,
   "title_cell": "Table of Contents",
   "title_sidebar": "Contents",
   "toc_cell": false,
   "toc_position": {},
   "toc_section_display": true,
   "toc_window_display": false
  }
 },
 "nbformat": 4,
 "nbformat_minor": 2
}
