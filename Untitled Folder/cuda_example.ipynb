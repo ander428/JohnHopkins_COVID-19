{
 "cells": [
  {
   "cell_type": "code",
   "execution_count": 3,
   "metadata": {},
   "outputs": [],
   "source": [
    "import numpy as np\n",
    "from timeit import default_timer as timer"
   ]
  },
  {
   "cell_type": "code",
   "execution_count": 9,
   "metadata": {},
   "outputs": [
    {
     "name": "stdout",
     "output_type": "stream",
     "text": [
      "C[:5] = [2. 2. 2. 2. 2.]\n",
      "C[-5:] = [2. 2. 2. 2. 2.]\n",
      "It took 9.033305 seconds\n"
     ]
    }
   ],
   "source": [
    "def VectorAdd(a,b,c):\n",
    "    for i in range(a.size):\n",
    "        c[i] = a[i] + b[i]\n",
    "\n",
    "N = 32000000\n",
    "\n",
    "A = np.ones(N, dtype=np.float32)\n",
    "B = np.ones(N, dtype=np.float32)\n",
    "C = np.zeros(N, dtype=np.float32)\n",
    "\n",
    "start = timer()\n",
    "VectorAdd(A,B,C)\n",
    "time = timer() - start\n",
    "\n",
    "print(\"C[:5] = \" + str(C[:5]))\n",
    "print(\"C[-5:] = \" + str(C[-5:]))\n",
    "\n",
    "print(\"It took %f seconds\" % time)"
   ]
  },
  {
   "cell_type": "code",
   "execution_count": 10,
   "metadata": {},
   "outputs": [
    {
     "name": "stdout",
     "output_type": "stream",
     "text": [
      "C[:5] = [2. 2. 2. 2. 2.]\n",
      "C[-5:] = [2. 2. 2. 2. 2.]\n",
      "It took 0.228378 seconds\n"
     ]
    }
   ],
   "source": [
    "from numba import vectorize\n",
    "\n",
    "@vectorize([\"float32(float32, float32)\"], target=\"cuda\")\n",
    "def VectorAdd2(a,b):\n",
    "    return a + b\n",
    "\n",
    "N = 32000000\n",
    "\n",
    "A = np.ones(N, dtype=np.float32)\n",
    "B = np.ones(N, dtype=np.float32)\n",
    "C = np.zeros(N, dtype=np.float32)\n",
    "\n",
    "start = timer()\n",
    "C = VectorAdd2(A,B)\n",
    "time = timer() - start\n",
    "\n",
    "print(\"C[:5] = \" + str(C[:5]))\n",
    "print(\"C[-5:] = \" + str(C[-5:]))\n",
    "\n",
    "print(\"It took %f seconds\" % time)"
   ]
  }
 ],
 "metadata": {
  "kernelspec": {
   "display_name": "cudagpu",
   "language": "python",
   "name": "cudagpu"
  },
  "language_info": {
   "codemirror_mode": {
    "name": "ipython",
    "version": 3
   },
   "file_extension": ".py",
   "mimetype": "text/x-python",
   "name": "python",
   "nbconvert_exporter": "python",
   "pygments_lexer": "ipython3",
   "version": "3.7.3"
  }
 },
 "nbformat": 4,
 "nbformat_minor": 2
}
